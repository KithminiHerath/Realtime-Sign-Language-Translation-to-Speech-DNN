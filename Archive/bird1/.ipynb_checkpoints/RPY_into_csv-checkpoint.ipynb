{
 "cells": [
  {
   "cell_type": "code",
   "execution_count": 43,
   "metadata": {},
   "outputs": [],
   "source": [
    "import pandas as pd\n",
    "import numpy as np\n",
    "#input exactly path\n",
    "def get_input(file_name):\n",
    "    data=pd.read_csv(file_name)\n",
    "    df=pd.DataFrame(data)\n",
    "    df_new=pd.DataFrame()\n",
    "    df_new['roll']=np.degrees(np.arctan(2*(df['w']*df['x']+df['y']*df['z'])/(-np.power(df['x'],2)*np.power(df['y'],2))))\n",
    "    df_new['pitch']=np.degrees(np.arcsin(np.maximum(-1,np.minimum(1,2*(df['w']*df['y']-df['z']*df['x'])))))\n",
    "    df_new['yaw']=np.degrees(np.arctan(2*(df['w']*df['z']+df['x']*df['y'])/(-np.power(df['z'],2)*np.power(df['y'],2))))\n",
    "    df_new.to_csv(\"new_\"+file_name)\n",
    "    print(df_new)"
   ]
  },
  {
   "cell_type": "code",
   "execution_count": 44,
   "metadata": {},
   "outputs": [
    {
     "name": "stdout",
     "output_type": "stream",
     "text": [
      "          roll      pitch        yaw\n",
      "0   -54.014404 -76.046111 -78.152615\n",
      "1   -63.612648 -76.236894 -78.668419\n",
      "2   -68.805421 -76.306892 -79.186564\n",
      "3   -71.420852 -76.289382 -79.585817\n",
      "4   -72.723975 -76.216513 -79.860878\n",
      "..         ...        ...        ...\n",
      "389 -20.308590 -74.403475 -78.206026\n",
      "390 -19.249120 -74.344947 -78.222632\n",
      "391 -16.818450 -74.326410 -78.206099\n",
      "392 -13.265878 -74.307871 -78.150147\n",
      "393  -8.595640 -74.316302 -78.059666\n",
      "\n",
      "[394 rows x 3 columns]\n"
     ]
    }
   ],
   "source": [
    "get_input('1.csv')"
   ]
  },
  {
   "cell_type": "code",
   "execution_count": null,
   "metadata": {},
   "outputs": [],
   "source": []
  }
 ],
 "metadata": {
  "kernelspec": {
   "display_name": "Python 3",
   "language": "python",
   "name": "python3"
  },
  "language_info": {
   "codemirror_mode": {
    "name": "ipython",
    "version": 3
   },
   "file_extension": ".py",
   "mimetype": "text/x-python",
   "name": "python",
   "nbconvert_exporter": "python",
   "pygments_lexer": "ipython3",
   "version": "3.7.3"
  }
 },
 "nbformat": 4,
 "nbformat_minor": 4
}
