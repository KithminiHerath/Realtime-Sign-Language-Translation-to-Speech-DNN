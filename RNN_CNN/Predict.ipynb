{
 "cells": [
  {
   "cell_type": "code",
   "execution_count": 3,
   "metadata": {},
   "outputs": [],
   "source": [
    "from pandas import read_csv\n",
    "from numpy import dstack\n",
    "from tensorflow.keras.utils import to_categorical\n",
    "from tensorflow.keras.models import Sequential\n",
    "from tensorflow.keras.layers import Dense,LSTM,Dropout\n",
    "from tensorflow.keras.layers import TimeDistributed,MaxPooling1D,Conv1D,Flatten,Dropout,ConvLSTM2D\n",
    "import matplotlib.pyplot as plt\n",
    "import numpy as np\n",
    "import tensorflow as tf\n",
    "import pandas as pd\n",
    "from tensorflow.keras.models import load_model"
   ]
  },
  {
   "cell_type": "code",
   "execution_count": 4,
   "metadata": {},
   "outputs": [],
   "source": [
    "def interpolating(data,n_rows): #output of read_csv\n",
    "    #new_data is a dataframe\n",
    "    n_columns=len(list(data))\n",
    "    A = np.array(data) \n",
    "    new_dims = [] \n",
    "    for original_length, new_length in zip(A.shape, (n_rows,n_columns)): \n",
    "        new_dims.append(np.linspace(0, original_length-1, new_length)) \n",
    "    coords = np.meshgrid(*new_dims, indexing='ij') \n",
    "    B = map_coordinates(A, coords)\n",
    "    data=pd.DataFrame(B)\n",
    "    return data"
   ]
  },
  {
   "cell_type": "code",
   "execution_count": 5,
   "metadata": {},
   "outputs": [],
   "source": [
    "n_steps, n_length = 4, 25 # n_timesteps = n_steps * n_length (n_timesteps =100)\n",
    "n_features=17\n",
    "%store -r inv_label_dict"
   ]
  },
  {
   "cell_type": "code",
   "execution_count": 6,
   "metadata": {},
   "outputs": [],
   "source": [
    "def predict(predictX):\n",
    "    model=load_model(model_dir)\n",
    "    predictX=interpolating(predictX,100) #n_rows=100 \n",
    "    predictX=predictX.reshape((predictX.shape[0], n_steps, n_length, n_features))\n",
    "    output=model.predict(evaluateX)\n",
    "    ges_num=np.argmax(model.predict(predictX))\n",
    "    return inv_label_dict[ges_num]    "
   ]
  },
  {
   "cell_type": "code",
   "execution_count": null,
   "metadata": {},
   "outputs": [],
   "source": []
  }
 ],
 "metadata": {
  "kernelspec": {
   "display_name": "Python 3",
   "language": "python",
   "name": "python3"
  },
  "language_info": {
   "codemirror_mode": {
    "name": "ipython",
    "version": 3
   },
   "file_extension": ".py",
   "mimetype": "text/x-python",
   "name": "python",
   "nbconvert_exporter": "python",
   "pygments_lexer": "ipython3",
   "version": "3.6.5"
  }
 },
 "nbformat": 4,
 "nbformat_minor": 4
}
