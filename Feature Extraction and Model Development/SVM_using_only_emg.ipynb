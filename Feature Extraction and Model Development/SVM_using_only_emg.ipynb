{
 "cells": [
  {
   "cell_type": "code",
   "execution_count": 1,
   "metadata": {},
   "outputs": [],
   "source": [
    "import pandas as pd\n",
    "import numpy as np\n",
    "import math\n",
    "import os\n",
    "from sklearn import preprocessing\n",
    "from sklearn.model_selection import train_test_split\n",
    "from sklearn.model_selection import KFold\n",
    "from sklearn.model_selection import cross_val_score\n",
    "from sklearn.model_selection import cross_val_predict\n",
    "from sklearn.decomposition import PCA                 # for dimensionality reduction using PCA\n",
    "from sklearn.model_selection import GridSearchCV\n",
    "from sklearn.svm import SVC\n",
    "from sklearn.metrics import classification_report,confusion_matrix\n",
    "import matplotlib.pyplot as plt \n",
    "import seaborn as sns            # visualization tool\n",
    "import matplotlib.cm as cm       # for colour mapping to use for the pca plots\n",
    "import scipy.signal\n",
    "from spectrum import *"
   ]
  },
  {
   "cell_type": "code",
   "execution_count": 2,
   "metadata": {},
   "outputs": [],
   "source": [
    "def process_one_csv(foldername,k,filename):\n",
    "    # print(foldername,filename)\n",
    "    path = '/home/amaya/emp/Realtime-Sign-Language-Translation-to-Speech-DNN/NEW_PROCESS/FULL_CLEANED2/'+foldername+'/split/'+k+'/'+filename\n",
    "    f = open(path,'rb')\n",
    "    if b',' in f.readline():\n",
    "        data = pd.read_csv(path)\n",
    "    else:\n",
    "        data = pd.read_csv(path,encoding = 'utf-16',delimiter = '\\t')\n",
    "    data = data.drop('Timestamp',axis = 1)\n",
    "    # print(data.head(2))\n",
    "\n",
    "    columns = ['Emg1', 'Emg2', 'Emg4', 'Emg6', 'Emg7']\n",
    "\n",
    "    #features = ['E','MAX','SSC','Sk','Ku','AR']\n",
    "\n",
    "    vector = []\n",
    "    \n",
    "    for item in columns:\n",
    "        temp = list(data[item])\n",
    "        l = len(temp)\n",
    "        \n",
    "        # calculating mean\n",
    "        mu = np.mean(np.array(temp))\n",
    "        \n",
    "        # calculating std\n",
    "        dif = temp - mu\n",
    "        s = np.sqrt(np.mean(np.array(dif)**2))\n",
    "        \n",
    "        # calculating E ***\n",
    "        # out_columns.append(item+features[0])\n",
    "        vector.append(np.mean(np.array(temp)**2))\n",
    "        \n",
    "        # calculating SSC ***\n",
    "        #out_columns.append(item+features[2])\n",
    "        tot = 0\n",
    "        for i in range(1,l-1): \n",
    "            if (temp[i]-temp[i-1])*(temp[i+1]-temp[i]) < 0:\n",
    "                tot += 1\n",
    "        vector.append(tot/(l-2))\n",
    "\n",
    "        # calculating Sk ***\n",
    "        # out_columns.append(item+features[3])\n",
    "        vector.append((np.sum(np.array(dif)**3) * l)/((l-1)*(l-2)*(s**3)))\n",
    "        \n",
    "        # calculate Ku ***\n",
    "        #out_columns.append(item+features[4])\n",
    "        Ku = (np.sum(np.array(dif)**4) * l * (l+1))/((l-1)*(l-2)*(l-3)*(s**4)) - (3*((l-1)**2))/((l-2)*(l-3))\n",
    "        vector.append(Ku)\n",
    "\n",
    "    return vector"
   ]
  },
  {
   "cell_type": "code",
   "execution_count": 3,
   "metadata": {},
   "outputs": [
    {
     "name": "stdout",
     "output_type": "stream",
     "text": [
      "['YELLOW', 'WATER', 'YES', 'THANKYOU', 'NO']\n"
     ]
    }
   ],
   "source": [
    "output = []\n",
    "classes=[]\n",
    "folders = os.listdir('/home/amaya/emp/Realtime-Sign-Language-Translation-to-Speech-DNN/NEW_PROCESS/FULL_CLEANED2/')\n",
    "# process_one_csv(files[0])\n",
    "for folder in folders:\n",
    "    if folder[0] != '.':\n",
    "        class_ = folder[:-11]\n",
    "        \n",
    "        for k in ['1', '2']:\n",
    "            files = sorted(os.listdir('/home/amaya/emp/Realtime-Sign-Language-Translation-to-Speech-DNN/NEW_PROCESS/FULL_CLEANED2/'+folder+'/split/'+k+'/'))\n",
    "            temp = []\n",
    "            for file in files:\n",
    "                if file[-1] == 'v' and 'emg' in file:\n",
    "                    temp += process_one_csv(folder,k,file)\n",
    "            if class_ in classes:\n",
    "                temp.append(classes.index(class_))\n",
    "            else:\n",
    "                classes.append(class_)\n",
    "                temp.append(classes.index(class_))\n",
    "            output.append(temp)\n",
    "            \n",
    "processed = pd.DataFrame(output)\n",
    "ocolumns = list(processed.columns)\n",
    "print(classes)"
   ]
  },
  {
   "cell_type": "code",
   "execution_count": 4,
   "metadata": {},
   "outputs": [
    {
     "data": {
      "text/html": [
       "<div>\n",
       "<style scoped>\n",
       "    .dataframe tbody tr th:only-of-type {\n",
       "        vertical-align: middle;\n",
       "    }\n",
       "\n",
       "    .dataframe tbody tr th {\n",
       "        vertical-align: top;\n",
       "    }\n",
       "\n",
       "    .dataframe thead th {\n",
       "        text-align: right;\n",
       "    }\n",
       "</style>\n",
       "<table border=\"1\" class=\"dataframe\">\n",
       "  <thead>\n",
       "    <tr style=\"text-align: right;\">\n",
       "      <th></th>\n",
       "      <th>0</th>\n",
       "      <th>1</th>\n",
       "      <th>2</th>\n",
       "      <th>3</th>\n",
       "      <th>4</th>\n",
       "      <th>5</th>\n",
       "      <th>6</th>\n",
       "      <th>7</th>\n",
       "      <th>8</th>\n",
       "      <th>9</th>\n",
       "      <th>...</th>\n",
       "      <th>11</th>\n",
       "      <th>12</th>\n",
       "      <th>13</th>\n",
       "      <th>14</th>\n",
       "      <th>15</th>\n",
       "      <th>16</th>\n",
       "      <th>17</th>\n",
       "      <th>18</th>\n",
       "      <th>19</th>\n",
       "      <th>20</th>\n",
       "    </tr>\n",
       "  </thead>\n",
       "  <tbody>\n",
       "    <tr>\n",
       "      <th>0</th>\n",
       "      <td>416.366338</td>\n",
       "      <td>0.025562</td>\n",
       "      <td>0.694468</td>\n",
       "      <td>-0.639694</td>\n",
       "      <td>108.755353</td>\n",
       "      <td>0.031697</td>\n",
       "      <td>0.683196</td>\n",
       "      <td>-0.416161</td>\n",
       "      <td>43.514615</td>\n",
       "      <td>0.027607</td>\n",
       "      <td>...</td>\n",
       "      <td>-1.271793</td>\n",
       "      <td>50.898460</td>\n",
       "      <td>0.042945</td>\n",
       "      <td>1.154392</td>\n",
       "      <td>0.785791</td>\n",
       "      <td>40.408943</td>\n",
       "      <td>0.042945</td>\n",
       "      <td>0.067078</td>\n",
       "      <td>-1.166054</td>\n",
       "      <td>0</td>\n",
       "    </tr>\n",
       "    <tr>\n",
       "      <th>1</th>\n",
       "      <td>202.984862</td>\n",
       "      <td>0.047503</td>\n",
       "      <td>0.817356</td>\n",
       "      <td>0.112530</td>\n",
       "      <td>100.843110</td>\n",
       "      <td>0.035323</td>\n",
       "      <td>0.065711</td>\n",
       "      <td>-0.908039</td>\n",
       "      <td>47.426701</td>\n",
       "      <td>0.032887</td>\n",
       "      <td>...</td>\n",
       "      <td>0.958715</td>\n",
       "      <td>32.817180</td>\n",
       "      <td>0.052375</td>\n",
       "      <td>0.809194</td>\n",
       "      <td>0.514393</td>\n",
       "      <td>29.750168</td>\n",
       "      <td>0.052375</td>\n",
       "      <td>0.832968</td>\n",
       "      <td>0.587504</td>\n",
       "      <td>0</td>\n",
       "    </tr>\n",
       "    <tr>\n",
       "      <th>2</th>\n",
       "      <td>135.666078</td>\n",
       "      <td>0.038058</td>\n",
       "      <td>0.644536</td>\n",
       "      <td>0.037629</td>\n",
       "      <td>80.420641</td>\n",
       "      <td>0.024934</td>\n",
       "      <td>0.913353</td>\n",
       "      <td>0.182295</td>\n",
       "      <td>30.849639</td>\n",
       "      <td>0.027559</td>\n",
       "      <td>...</td>\n",
       "      <td>-0.680368</td>\n",
       "      <td>32.520442</td>\n",
       "      <td>0.041995</td>\n",
       "      <td>1.340680</td>\n",
       "      <td>1.812895</td>\n",
       "      <td>28.107756</td>\n",
       "      <td>0.064304</td>\n",
       "      <td>0.656713</td>\n",
       "      <td>0.338247</td>\n",
       "      <td>0</td>\n",
       "    </tr>\n",
       "    <tr>\n",
       "      <th>3</th>\n",
       "      <td>224.304604</td>\n",
       "      <td>0.035980</td>\n",
       "      <td>1.623689</td>\n",
       "      <td>2.874839</td>\n",
       "      <td>84.771866</td>\n",
       "      <td>0.035980</td>\n",
       "      <td>0.272399</td>\n",
       "      <td>-0.672410</td>\n",
       "      <td>40.526828</td>\n",
       "      <td>0.016129</td>\n",
       "      <td>...</td>\n",
       "      <td>-0.586219</td>\n",
       "      <td>14.751212</td>\n",
       "      <td>0.038462</td>\n",
       "      <td>1.196627</td>\n",
       "      <td>1.468581</td>\n",
       "      <td>33.745447</td>\n",
       "      <td>0.068238</td>\n",
       "      <td>0.555141</td>\n",
       "      <td>-0.304151</td>\n",
       "      <td>0</td>\n",
       "    </tr>\n",
       "    <tr>\n",
       "      <th>4</th>\n",
       "      <td>441.559727</td>\n",
       "      <td>0.043210</td>\n",
       "      <td>0.747946</td>\n",
       "      <td>-0.641441</td>\n",
       "      <td>164.748514</td>\n",
       "      <td>0.050617</td>\n",
       "      <td>0.886376</td>\n",
       "      <td>-0.065303</td>\n",
       "      <td>25.916920</td>\n",
       "      <td>0.060494</td>\n",
       "      <td>...</td>\n",
       "      <td>0.266654</td>\n",
       "      <td>23.094031</td>\n",
       "      <td>0.045679</td>\n",
       "      <td>1.389351</td>\n",
       "      <td>1.159940</td>\n",
       "      <td>34.830868</td>\n",
       "      <td>0.050617</td>\n",
       "      <td>0.829009</td>\n",
       "      <td>-0.037226</td>\n",
       "      <td>1</td>\n",
       "    </tr>\n",
       "  </tbody>\n",
       "</table>\n",
       "<p>5 rows × 21 columns</p>\n",
       "</div>"
      ],
      "text/plain": [
       "           0         1         2         3           4         5         6   \\\n",
       "0  416.366338  0.025562  0.694468 -0.639694  108.755353  0.031697  0.683196   \n",
       "1  202.984862  0.047503  0.817356  0.112530  100.843110  0.035323  0.065711   \n",
       "2  135.666078  0.038058  0.644536  0.037629   80.420641  0.024934  0.913353   \n",
       "3  224.304604  0.035980  1.623689  2.874839   84.771866  0.035980  0.272399   \n",
       "4  441.559727  0.043210  0.747946 -0.641441  164.748514  0.050617  0.886376   \n",
       "\n",
       "         7          8         9   ...        11         12        13  \\\n",
       "0 -0.416161  43.514615  0.027607  ... -1.271793  50.898460  0.042945   \n",
       "1 -0.908039  47.426701  0.032887  ...  0.958715  32.817180  0.052375   \n",
       "2  0.182295  30.849639  0.027559  ... -0.680368  32.520442  0.041995   \n",
       "3 -0.672410  40.526828  0.016129  ... -0.586219  14.751212  0.038462   \n",
       "4 -0.065303  25.916920  0.060494  ...  0.266654  23.094031  0.045679   \n",
       "\n",
       "         14        15         16        17        18        19  20  \n",
       "0  1.154392  0.785791  40.408943  0.042945  0.067078 -1.166054   0  \n",
       "1  0.809194  0.514393  29.750168  0.052375  0.832968  0.587504   0  \n",
       "2  1.340680  1.812895  28.107756  0.064304  0.656713  0.338247   0  \n",
       "3  1.196627  1.468581  33.745447  0.068238  0.555141 -0.304151   0  \n",
       "4  1.389351  1.159940  34.830868  0.050617  0.829009 -0.037226   1  \n",
       "\n",
       "[5 rows x 21 columns]"
      ]
     },
     "execution_count": 4,
     "metadata": {},
     "output_type": "execute_result"
    }
   ],
   "source": [
    "processed.head()"
   ]
  },
  {
   "cell_type": "code",
   "execution_count": 5,
   "metadata": {},
   "outputs": [
    {
     "data": {
      "text/plain": [
       "21"
      ]
     },
     "execution_count": 5,
     "metadata": {},
     "output_type": "execute_result"
    }
   ],
   "source": [
    "len(ocolumns)"
   ]
  },
  {
   "cell_type": "code",
   "execution_count": 6,
   "metadata": {},
   "outputs": [
    {
     "data": {
      "text/plain": [
       "(136, 21)"
      ]
     },
     "execution_count": 6,
     "metadata": {},
     "output_type": "execute_result"
    }
   ],
   "source": [
    "processed.shape"
   ]
  },
  {
   "cell_type": "code",
   "execution_count": 7,
   "metadata": {},
   "outputs": [],
   "source": [
    "X = processed[ocolumns[:-1]]\n",
    "y = processed[ocolumns[-1]]"
   ]
  },
  {
   "cell_type": "code",
   "execution_count": 8,
   "metadata": {},
   "outputs": [],
   "source": [
    "scaler = preprocessing.MinMaxScaler()   # since the data set is not gaussian\n",
    "scaled_df = scaler.fit_transform(X)\n",
    "X = pd.DataFrame(scaled_df,columns = ocolumns[:-1])\n",
    "y = processed[ocolumns[-1]]"
   ]
  },
  {
   "cell_type": "code",
   "execution_count": 9,
   "metadata": {},
   "outputs": [],
   "source": [
    "X_train,X_test,y_train,y_test = train_test_split(X,y,test_size = 0.20)"
   ]
  },
  {
   "cell_type": "code",
   "execution_count": 11,
   "metadata": {},
   "outputs": [
    {
     "data": {
      "text/plain": [
       "SVC(C=10.0, cache_size=200, class_weight=None, coef0=0.0,\n",
       "    decision_function_shape='ovr', degree=3, gamma=1.0, kernel='linear',\n",
       "    max_iter=-1, probability=False, random_state=None, shrinking=True,\n",
       "    tol=0.001, verbose=False)"
      ]
     },
     "execution_count": 11,
     "metadata": {},
     "output_type": "execute_result"
    }
   ],
   "source": [
    "svclassifier = SVC(kernel = 'linear',C = 10.0, gamma = 1.0)\n",
    "# C = 100.0, gamma = 1.0 for linear kernel - selected using GridSearchCV\n",
    "\n",
    "svclassifier.fit(X_train,y_train)"
   ]
  },
  {
   "cell_type": "code",
   "execution_count": 13,
   "metadata": {},
   "outputs": [
    {
     "name": "stderr",
     "output_type": "stream",
     "text": [
      "'c' argument looks like a single numeric RGB or RGBA sequence, which should be avoided as value-mapping will have precedence in case its length matches with 'x' & 'y'.  Please use a 2-D array with a single row if you really want to specify the same RGB or RGBA value for all points.\n",
      "'c' argument looks like a single numeric RGB or RGBA sequence, which should be avoided as value-mapping will have precedence in case its length matches with 'x' & 'y'.  Please use a 2-D array with a single row if you really want to specify the same RGB or RGBA value for all points.\n",
      "'c' argument looks like a single numeric RGB or RGBA sequence, which should be avoided as value-mapping will have precedence in case its length matches with 'x' & 'y'.  Please use a 2-D array with a single row if you really want to specify the same RGB or RGBA value for all points.\n",
      "'c' argument looks like a single numeric RGB or RGBA sequence, which should be avoided as value-mapping will have precedence in case its length matches with 'x' & 'y'.  Please use a 2-D array with a single row if you really want to specify the same RGB or RGBA value for all points.\n",
      "'c' argument looks like a single numeric RGB or RGBA sequence, which should be avoided as value-mapping will have precedence in case its length matches with 'x' & 'y'.  Please use a 2-D array with a single row if you really want to specify the same RGB or RGBA value for all points.\n"
     ]
    },
    {
     "data": {
      "image/png": "[encoded data removed]",
      "text/plain": [
       "<Figure size 576x576 with 1 Axes>"
      ]
     },
     "metadata": {
      "needs_background": "light"
     },
     "output_type": "display_data"
    }
   ],
   "source": [
    "# dimensionality reduction to training set\n",
    "\n",
    "pca = PCA(n_components = 2)\n",
    "newFeatures = pca.fit_transform(X)\n",
    "newdf = pd.DataFrame(newFeatures,columns = ['Principal Component 1', 'Principal Component 2'])\n",
    "#svclassifier.fit(newdf,y)\n",
    "newdf['CLASS'] = list(y)\n",
    "\n",
    "fig = plt.figure(figsize = (8,8))\n",
    "ax = fig.add_subplot(1,1,1) \n",
    "ax.set_xlabel('Principal Component 1', fontsize = 15)\n",
    "ax.set_ylabel('Principal Component 2', fontsize = 15)\n",
    "clind = list(range(5))\n",
    "colors = cm.rainbow(np.linspace(0, 1, 5))\n",
    "for ind, color in zip(clind,colors):\n",
    "    indicesToKeep = newdf['CLASS'] == ind\n",
    "    ax.scatter(newdf.loc[indicesToKeep, 'Principal Component 1']\n",
    "               , newdf.loc[indicesToKeep, 'Principal Component 2']\n",
    "               , c = color\n",
    "               , s = 50)\n",
    "ax.legend(clind)\n",
    "ax.grid()"
   ]
  },
  {
   "cell_type": "code",
   "execution_count": 12,
   "metadata": {},
   "outputs": [
    {
     "data": {
      "image/png": "[encoded data removed]",
      "text/plain": [
       "<Figure size 720x720 with 2 Axes>"
      ]
     },
     "metadata": {
      "needs_background": "light"
     },
     "output_type": "display_data"
    },
    {
     "name": "stdout",
     "output_type": "stream",
     "text": [
      "[1, 2, 3, 3, 1, 0, 3, 2, 0, 4, 4, 0, 1, 0, 1, 2, 2, 0, 1, 1, 4, 3, 4, 3, 0, 1, 4, 2] [1, 1, 3, 3, 1, 4, 0, 2, 0, 4, 4, 0, 1, 0, 1, 2, 2, 0, 1, 1, 4, 0, 4, 3, 0, 1, 4, 2]\n",
      "              precision    recall  f1-score   support\n",
      "\n",
      "           0       0.71      0.83      0.77         6\n",
      "           1       0.88      1.00      0.93         7\n",
      "           2       1.00      0.80      0.89         5\n",
      "           3       1.00      0.60      0.75         5\n",
      "           4       0.83      1.00      0.91         5\n",
      "\n",
      "    accuracy                           0.86        28\n",
      "   macro avg       0.88      0.85      0.85        28\n",
      "weighted avg       0.88      0.86      0.85        28\n",
      "\n"
     ]
    }
   ],
   "source": [
    "# dimesionality reduction to test set\n",
    "# newFeaturesTest = pca.fit_transform(X_test)\n",
    "# newtest = pd.DataFrame(newFeaturesTest,columns = ['Principal Component 1', 'Principal Component 2'])\n",
    "# ****************************************************************************************************\n",
    "\n",
    "# Usual code:\n",
    "y_pred = svclassifier.predict(X_test)\n",
    "#result = [y_pred[i] == y_test[i] for i in range(len(y_test))]\n",
    "f,ax = plt.subplots(figsize=(10, 10))\n",
    "sns.heatmap(confusion_matrix(y_test,y_pred), annot=True, linewidths=.1, fmt= '.0f',ax=ax).set_ylim(5,0)\n",
    "plt.xlabel(\"Predicted Class\")\n",
    "plt.ylabel(\"Actual Class\")\n",
    "plt.show()\n",
    "print(list(y_test),list(y_pred))\n",
    "print(classification_report(y_test,y_pred))"
   ]
  },
  {
   "cell_type": "code",
   "execution_count": 10,
   "metadata": {},
   "outputs": [
    {
     "name": "stderr",
     "output_type": "stream",
     "text": [
      "/home/amaya/anaconda3/lib/python3.7/site-packages/sklearn/model_selection/_split.py:1978: FutureWarning: The default value of cv will change from 3 to 5 in version 0.22. Specify it explicitly to silence this warning.\n",
      "  warnings.warn(CV_WARNING, FutureWarning)\n"
     ]
    },
    {
     "name": "stdout",
     "output_type": "stream",
     "text": [
      "Best Parameters:\n",
      " {'C': 10, 'gamma': 1}\n"
     ]
    },
    {
     "name": "stderr",
     "output_type": "stream",
     "text": [
      "/home/amaya/anaconda3/lib/python3.7/site-packages/sklearn/model_selection/_search.py:814: DeprecationWarning: The default of the `iid` parameter will change from True to False in version 0.22 and will be removed in 0.24. This will change numeric results when test-set sizes are unequal.\n",
      "  DeprecationWarning)\n"
     ]
    }
   ],
   "source": [
    "# parameter tuning\n",
    "\n",
    "param_grid = {'C': [0.01,0.1, 1, 10, 100,1000], 'gamma': [1, 0.1, 0.01, 0.001, 0.00001, 10,100]}\n",
    "clf_grid = GridSearchCV(SVC(kernel = 'linear'), param_grid)\n",
    "clf_grid.fit(X, y)\n",
    "print(\"Best Parameters:\\n\", clf_grid.best_params_)"
   ]
  }
 ],
 "metadata": {
  "kernelspec": {
   "display_name": "Python 3",
   "language": "python",
   "name": "python3"
  },
  "language_info": {
   "codemirror_mode": {
    "name": "ipython",
    "version": 3
   },
   "file_extension": ".py",
   "mimetype": "text/x-python",
   "name": "python",
   "nbconvert_exporter": "python",
   "pygments_lexer": "ipython3",
   "version": "3.7.3"
  }
 },
 "nbformat": 4,
 "nbformat_minor": 4
}
