{
 "cells": [
  {
   "cell_type": "code",
   "execution_count": 1,
   "metadata": {},
   "outputs": [],
   "source": [
    "import pandas as pd\n",
    "import numpy as np\n",
    "import math\n",
    "import os\n",
    "from sklearn import preprocessing\n",
    "from sklearn.model_selection import train_test_split\n",
    "from sklearn.model_selection import KFold\n",
    "from sklearn.model_selection import cross_val_score\n",
    "from sklearn.model_selection import cross_val_predict\n",
    "from sklearn.decomposition import PCA                 # for dimensionality reduction using PCA\n",
    "from sklearn.model_selection import GridSearchCV\n",
    "from sklearn.svm import SVC\n",
    "from sklearn.metrics import classification_report,confusion_matrix\n",
    "import matplotlib.pyplot as plt \n",
    "import seaborn as sns            # visualization tool\n",
    "import matplotlib.cm as cm       # for colour mapping to use for the pca plots\n",
    "import scipy.signal\n",
    "from spectrum import *"
   ]
  },
  {
   "cell_type": "code",
   "execution_count": 4,
   "metadata": {},
   "outputs": [],
   "source": [
    "def process_one_csv(foldername,k,filename):\n",
    "    path = '/home/amaya/emp/Realtime-Sign-Language-Translation-to-Speech-DNN/NEW_PROCESS/FULL_CLEANED2/'+foldername+'/split/'+k+'/'+filename\n",
    "    f = open(path,'rb')\n",
    "    if b',' in f.readline():\n",
    "        data = pd.read_csv(path)\n",
    "    else:\n",
    "        data = pd.read_csv(path,encoding = 'utf-16',delimiter = '\\t')\n",
    "    data = data.drop('Timestamp',axis = 1)\n",
    "    \n",
    "    columns = list(data.columns)\n",
    "\n",
    "    #features = ['E','MAX','SSC','Sk','Ku','AR']\n",
    "\n",
    "    vector = []\n",
    "    \n",
    "    for item in columns:\n",
    "        temp = list(data[item])\n",
    "        l = len(temp)\n",
    "        \n",
    "        # calculating mean\n",
    "        mu = np.mean(np.array(temp))\n",
    "        \n",
    "        # calculating std\n",
    "        dif = temp - mu\n",
    "        s = np.sqrt(np.mean(np.array(dif)**2))\n",
    "        \n",
    "        # calculating E ***\n",
    "        #out_columns.append(item+features[0])\n",
    "        vector.append(np.mean(np.array(temp)**2))\n",
    "        \n",
    "        # calculating max ***\n",
    "        #out_columns.append(item+features[1])\n",
    "        vector.append(max(temp))\n",
    "        \n",
    "        # calculating SSC ***\n",
    "        #out_columns.append(item+features[2])\n",
    "        tot = 0\n",
    "        for i in range(1,l-1): \n",
    "            if (temp[i]-temp[i-1])*(temp[i+1]-temp[i]) < 0:\n",
    "                tot += 1\n",
    "        vector.append(tot/l-2)\n",
    "\n",
    "    return vector"
   ]
  },
  {
   "cell_type": "code",
   "execution_count": 5,
   "metadata": {},
   "outputs": [
    {
     "name": "stdout",
     "output_type": "stream",
     "text": [
      "['YELLOW', 'WATER', 'YES', 'THANKYOU', 'NO']\n"
     ]
    }
   ],
   "source": [
    "output = []\n",
    "classes=[]\n",
    "folders = os.listdir('/home/amaya/emp/Realtime-Sign-Language-Translation-to-Speech-DNN/NEW_PROCESS/FULL_CLEANED2/')\n",
    "\n",
    "# process_one_csv(files[0])\n",
    "for folder in folders:\n",
    "    if folder[0] != '.':\n",
    "        class_ = folder[:-11]\n",
    "        \n",
    "        for k in ['1', '2']:\n",
    "            files = os.listdir('/home/amaya/emp/Realtime-Sign-Language-Translation-to-Speech-DNN/NEW_PROCESS/FULL_CLEANED2/'+folder+'/split/'+k+'/')\n",
    "            temp = []\n",
    "            for file in files:\n",
    "                if file[-1] == 'v' and 'accel' in file:\n",
    "                    temp += process_one_csv(folder,k,file)\n",
    "            if class_ in classes:\n",
    "                temp.append(classes.index(class_))\n",
    "            else:\n",
    "                classes.append(class_)\n",
    "                temp.append(classes.index(class_))\n",
    "            \n",
    "            output.append(temp)\n",
    "            \n",
    "processed = pd.DataFrame(output)\n",
    "ocolumns = list(processed.columns)\n",
    "processed.head()\n",
    "print(classes)"
   ]
  },
  {
   "cell_type": "code",
   "execution_count": 6,
   "metadata": {},
   "outputs": [
    {
     "data": {
      "text/html": [
       "<div>\n",
       "<style scoped>\n",
       "    .dataframe tbody tr th:only-of-type {\n",
       "        vertical-align: middle;\n",
       "    }\n",
       "\n",
       "    .dataframe tbody tr th {\n",
       "        vertical-align: top;\n",
       "    }\n",
       "\n",
       "    .dataframe thead th {\n",
       "        text-align: right;\n",
       "    }\n",
       "</style>\n",
       "<table border=\"1\" class=\"dataframe\">\n",
       "  <thead>\n",
       "    <tr style=\"text-align: right;\">\n",
       "      <th></th>\n",
       "      <th>0</th>\n",
       "      <th>1</th>\n",
       "      <th>2</th>\n",
       "      <th>3</th>\n",
       "      <th>4</th>\n",
       "      <th>5</th>\n",
       "      <th>6</th>\n",
       "      <th>7</th>\n",
       "      <th>8</th>\n",
       "      <th>9</th>\n",
       "      <th>10</th>\n",
       "      <th>11</th>\n",
       "      <th>12</th>\n",
       "      <th>13</th>\n",
       "      <th>14</th>\n",
       "      <th>15</th>\n",
       "      <th>16</th>\n",
       "      <th>17</th>\n",
       "      <th>18</th>\n",
       "    </tr>\n",
       "  </thead>\n",
       "  <tbody>\n",
       "    <tr>\n",
       "      <th>0</th>\n",
       "      <td>0.098909</td>\n",
       "      <td>-1.646578</td>\n",
       "      <td>-1.045253</td>\n",
       "      <td>0.000170</td>\n",
       "      <td>0.000321</td>\n",
       "      <td>0.045678</td>\n",
       "      <td>-0.645281</td>\n",
       "      <td>-1.294041</td>\n",
       "      <td>-1.002227</td>\n",
       "      <td>0.000025</td>\n",
       "      <td>0.000044</td>\n",
       "      <td>0.007144</td>\n",
       "      <td>-0.447633</td>\n",
       "      <td>-1.159080</td>\n",
       "      <td>-1.000151</td>\n",
       "      <td>0.000006</td>\n",
       "      <td>2.301984e-05</td>\n",
       "      <td>0.003961</td>\n",
       "      <td>0</td>\n",
       "    </tr>\n",
       "    <tr>\n",
       "      <th>1</th>\n",
       "      <td>-0.052815</td>\n",
       "      <td>-1.630209</td>\n",
       "      <td>-1.041651</td>\n",
       "      <td>-0.000014</td>\n",
       "      <td>0.000160</td>\n",
       "      <td>0.042711</td>\n",
       "      <td>-0.446746</td>\n",
       "      <td>-1.526307</td>\n",
       "      <td>-1.000807</td>\n",
       "      <td>0.000037</td>\n",
       "      <td>0.000025</td>\n",
       "      <td>0.006887</td>\n",
       "      <td>-0.657283</td>\n",
       "      <td>-0.890458</td>\n",
       "      <td>-0.999941</td>\n",
       "      <td>-0.000009</td>\n",
       "      <td>-2.310804e-07</td>\n",
       "      <td>0.004300</td>\n",
       "      <td>0</td>\n",
       "    </tr>\n",
       "    <tr>\n",
       "      <th>2</th>\n",
       "      <td>-0.356514</td>\n",
       "      <td>-1.379430</td>\n",
       "      <td>-1.032696</td>\n",
       "      <td>-0.000541</td>\n",
       "      <td>0.000452</td>\n",
       "      <td>0.034533</td>\n",
       "      <td>-0.141151</td>\n",
       "      <td>-1.624759</td>\n",
       "      <td>-0.999669</td>\n",
       "      <td>0.000099</td>\n",
       "      <td>0.000208</td>\n",
       "      <td>0.007834</td>\n",
       "      <td>-0.282645</td>\n",
       "      <td>-1.117785</td>\n",
       "      <td>-1.000570</td>\n",
       "      <td>-0.000034</td>\n",
       "      <td>4.167442e-05</td>\n",
       "      <td>0.006035</td>\n",
       "      <td>0</td>\n",
       "    </tr>\n",
       "    <tr>\n",
       "      <th>3</th>\n",
       "      <td>-0.652189</td>\n",
       "      <td>-1.159650</td>\n",
       "      <td>-1.031626</td>\n",
       "      <td>0.000371</td>\n",
       "      <td>-0.000960</td>\n",
       "      <td>0.034017</td>\n",
       "      <td>0.106284</td>\n",
       "      <td>-1.687086</td>\n",
       "      <td>-0.999441</td>\n",
       "      <td>0.000095</td>\n",
       "      <td>-0.000043</td>\n",
       "      <td>0.008174</td>\n",
       "      <td>0.271362</td>\n",
       "      <td>-1.719134</td>\n",
       "      <td>-0.998454</td>\n",
       "      <td>0.000076</td>\n",
       "      <td>5.335760e-05</td>\n",
       "      <td>0.005068</td>\n",
       "      <td>0</td>\n",
       "    </tr>\n",
       "    <tr>\n",
       "      <th>4</th>\n",
       "      <td>0.132691</td>\n",
       "      <td>-1.682984</td>\n",
       "      <td>-1.037370</td>\n",
       "      <td>-0.000477</td>\n",
       "      <td>0.000840</td>\n",
       "      <td>0.037958</td>\n",
       "      <td>-0.328995</td>\n",
       "      <td>-1.441849</td>\n",
       "      <td>-0.999510</td>\n",
       "      <td>-0.000015</td>\n",
       "      <td>0.000009</td>\n",
       "      <td>0.003451</td>\n",
       "      <td>-0.253434</td>\n",
       "      <td>-1.258619</td>\n",
       "      <td>-1.004009</td>\n",
       "      <td>0.000028</td>\n",
       "      <td>1.449264e-04</td>\n",
       "      <td>0.008307</td>\n",
       "      <td>1</td>\n",
       "    </tr>\n",
       "  </tbody>\n",
       "</table>\n",
       "</div>"
      ],
      "text/plain": [
       "          0         1         2         3         4         5         6  \\\n",
       "0  0.098909 -1.646578 -1.045253  0.000170  0.000321  0.045678 -0.645281   \n",
       "1 -0.052815 -1.630209 -1.041651 -0.000014  0.000160  0.042711 -0.446746   \n",
       "2 -0.356514 -1.379430 -1.032696 -0.000541  0.000452  0.034533 -0.141151   \n",
       "3 -0.652189 -1.159650 -1.031626  0.000371 -0.000960  0.034017  0.106284   \n",
       "4  0.132691 -1.682984 -1.037370 -0.000477  0.000840  0.037958 -0.328995   \n",
       "\n",
       "          7         8         9        10        11        12        13  \\\n",
       "0 -1.294041 -1.002227  0.000025  0.000044  0.007144 -0.447633 -1.159080   \n",
       "1 -1.526307 -1.000807  0.000037  0.000025  0.006887 -0.657283 -0.890458   \n",
       "2 -1.624759 -0.999669  0.000099  0.000208  0.007834 -0.282645 -1.117785   \n",
       "3 -1.687086 -0.999441  0.000095 -0.000043  0.008174  0.271362 -1.719134   \n",
       "4 -1.441849 -0.999510 -0.000015  0.000009  0.003451 -0.253434 -1.258619   \n",
       "\n",
       "         14        15            16        17  18  \n",
       "0 -1.000151  0.000006  2.301984e-05  0.003961   0  \n",
       "1 -0.999941 -0.000009 -2.310804e-07  0.004300   0  \n",
       "2 -1.000570 -0.000034  4.167442e-05  0.006035   0  \n",
       "3 -0.998454  0.000076  5.335760e-05  0.005068   0  \n",
       "4 -1.004009  0.000028  1.449264e-04  0.008307   1  "
      ]
     },
     "execution_count": 6,
     "metadata": {},
     "output_type": "execute_result"
    }
   ],
   "source": [
    "processed.head()"
   ]
  },
  {
   "cell_type": "code",
   "execution_count": 7,
   "metadata": {},
   "outputs": [
    {
     "data": {
      "text/plain": [
       "19"
      ]
     },
     "execution_count": 7,
     "metadata": {},
     "output_type": "execute_result"
    }
   ],
   "source": [
    "len(ocolumns)"
   ]
  },
  {
   "cell_type": "code",
   "execution_count": 8,
   "metadata": {},
   "outputs": [
    {
     "data": {
      "text/plain": [
       "(136, 19)"
      ]
     },
     "execution_count": 8,
     "metadata": {},
     "output_type": "execute_result"
    }
   ],
   "source": [
    "processed.shape"
   ]
  },
  {
   "cell_type": "code",
   "execution_count": 9,
   "metadata": {},
   "outputs": [],
   "source": [
    "X = processed[ocolumns[:-1]]\n",
    "y = processed[ocolumns[-1]]"
   ]
  },
  {
   "cell_type": "code",
   "execution_count": 11,
   "metadata": {},
   "outputs": [],
   "source": [
    "X_train,X_test,y_train,y_test = train_test_split(X,y,test_size = 0.20)"
   ]
  },
  {
   "cell_type": "code",
   "execution_count": 13,
   "metadata": {},
   "outputs": [
    {
     "data": {
      "text/plain": [
       "SVC(C=100.0, cache_size=200, class_weight=None, coef0=0.0,\n",
       "    decision_function_shape='ovr', degree=3, gamma=1.0, kernel='linear',\n",
       "    max_iter=-1, probability=False, random_state=None, shrinking=True,\n",
       "    tol=0.001, verbose=False)"
      ]
     },
     "execution_count": 13,
     "metadata": {},
     "output_type": "execute_result"
    }
   ],
   "source": [
    "svclassifier = SVC(kernel = 'linear',C = 100.0, gamma = 1.0)\n",
    "# C = 100.0, gamma = 1.0 for linear kernel - selected using GridSearchCV\n",
    "\n",
    "svclassifier.fit(X_train,y_train)"
   ]
  },
  {
   "cell_type": "code",
   "execution_count": 14,
   "metadata": {},
   "outputs": [
    {
     "name": "stderr",
     "output_type": "stream",
     "text": [
      "'c' argument looks like a single numeric RGB or RGBA sequence, which should be avoided as value-mapping will have precedence in case its length matches with 'x' & 'y'.  Please use a 2-D array with a single row if you really want to specify the same RGB or RGBA value for all points.\n",
      "'c' argument looks like a single numeric RGB or RGBA sequence, which should be avoided as value-mapping will have precedence in case its length matches with 'x' & 'y'.  Please use a 2-D array with a single row if you really want to specify the same RGB or RGBA value for all points.\n",
      "'c' argument looks like a single numeric RGB or RGBA sequence, which should be avoided as value-mapping will have precedence in case its length matches with 'x' & 'y'.  Please use a 2-D array with a single row if you really want to specify the same RGB or RGBA value for all points.\n",
      "'c' argument looks like a single numeric RGB or RGBA sequence, which should be avoided as value-mapping will have precedence in case its length matches with 'x' & 'y'.  Please use a 2-D array with a single row if you really want to specify the same RGB or RGBA value for all points.\n",
      "'c' argument looks like a single numeric RGB or RGBA sequence, which should be avoided as value-mapping will have precedence in case its length matches with 'x' & 'y'.  Please use a 2-D array with a single row if you really want to specify the same RGB or RGBA value for all points.\n"
     ]
    },
    {
     "data": {
      "image/png": "[encoded data removed]",
      "text/plain": [
       "<Figure size 576x576 with 1 Axes>"
      ]
     },
     "metadata": {
      "needs_background": "light"
     },
     "output_type": "display_data"
    }
   ],
   "source": [
    "# dimensionality reduction to training set\n",
    "\n",
    "pca = PCA(n_components = 2)\n",
    "newFeatures = pca.fit_transform(X)\n",
    "newdf = pd.DataFrame(newFeatures,columns = ['Principal Component 1', 'Principal Component 2'])\n",
    "#svclassifier.fit(newdf,y)\n",
    "newdf['CLASS'] = list(y)\n",
    "\n",
    "fig = plt.figure(figsize = (8,8))\n",
    "ax = fig.add_subplot(1,1,1) \n",
    "ax.set_xlabel('Principal Component 1', fontsize = 15)\n",
    "ax.set_ylabel('Principal Component 2', fontsize = 15)\n",
    "clind = list(range(5))\n",
    "colors = cm.rainbow(np.linspace(0, 1, 5))\n",
    "for ind, color in zip(clind,colors):\n",
    "    indicesToKeep = newdf['CLASS'] == ind\n",
    "    ax.scatter(newdf.loc[indicesToKeep, 'Principal Component 1']\n",
    "               , newdf.loc[indicesToKeep, 'Principal Component 2']\n",
    "               , c = color\n",
    "               , s = 50)\n",
    "ax.legend(clind)\n",
    "ax.grid()"
   ]
  },
  {
   "cell_type": "code",
   "execution_count": 15,
   "metadata": {},
   "outputs": [
    {
     "data": {
      "image/png": "[encoded data removed]",
      "text/plain": [
       "<Figure size 720x720 with 2 Axes>"
      ]
     },
     "metadata": {
      "needs_background": "light"
     },
     "output_type": "display_data"
    },
    {
     "name": "stdout",
     "output_type": "stream",
     "text": [
      "[3, 4, 1, 0, 4, 2, 2, 4, 2, 1, 1, 0, 3, 3, 3, 0, 2, 2, 0, 2, 0, 0, 2, 3, 0, 4, 2, 1] [3, 4, 1, 0, 4, 2, 2, 4, 0, 1, 1, 0, 3, 3, 3, 1, 2, 2, 3, 2, 0, 0, 1, 3, 1, 4, 1, 1]\n",
      "              precision    recall  f1-score   support\n",
      "\n",
      "           0       0.80      0.57      0.67         7\n",
      "           1       0.50      1.00      0.67         4\n",
      "           2       1.00      0.62      0.77         8\n",
      "           3       0.83      1.00      0.91         5\n",
      "           4       1.00      1.00      1.00         4\n",
      "\n",
      "    accuracy                           0.79        28\n",
      "   macro avg       0.83      0.84      0.80        28\n",
      "weighted avg       0.85      0.79      0.79        28\n",
      "\n"
     ]
    }
   ],
   "source": [
    "# dimesionality reduction to test set\n",
    "# newFeaturesTest = pca.fit_transform(X_test)\n",
    "# newtest = pd.DataFrame(newFeaturesTest,columns = ['Principal Component 1', 'Principal Component 2'])\n",
    "# ****************************************************************************************************\n",
    "\n",
    "# Usual code:\n",
    "y_pred = svclassifier.predict(X_test)\n",
    "#result = [y_pred[i] == y_test[i] for i in range(len(y_test))]\n",
    "f,ax = plt.subplots(figsize=(10, 10))\n",
    "sns.heatmap(confusion_matrix(y_test,y_pred), annot=True, linewidths=.1, fmt= '.0f',ax=ax).set_ylim(5,0)\n",
    "plt.xlabel(\"Predicted Class\")\n",
    "plt.ylabel(\"Actual Class\")\n",
    "plt.show()\n",
    "print(list(y_test),list(y_pred))\n",
    "print(classification_report(y_test,y_pred))"
   ]
  },
  {
   "cell_type": "code",
   "execution_count": 12,
   "metadata": {},
   "outputs": [
    {
     "name": "stderr",
     "output_type": "stream",
     "text": [
      "/home/amaya/anaconda3/lib/python3.7/site-packages/sklearn/model_selection/_split.py:1978: FutureWarning: The default value of cv will change from 3 to 5 in version 0.22. Specify it explicitly to silence this warning.\n",
      "  warnings.warn(CV_WARNING, FutureWarning)\n"
     ]
    },
    {
     "name": "stdout",
     "output_type": "stream",
     "text": [
      "Best Parameters:\n",
      " {'C': 100, 'gamma': 1}\n"
     ]
    },
    {
     "name": "stderr",
     "output_type": "stream",
     "text": [
      "/home/amaya/anaconda3/lib/python3.7/site-packages/sklearn/model_selection/_search.py:814: DeprecationWarning: The default of the `iid` parameter will change from True to False in version 0.22 and will be removed in 0.24. This will change numeric results when test-set sizes are unequal.\n",
      "  DeprecationWarning)\n"
     ]
    }
   ],
   "source": [
    "# parameter tuning\n",
    "\n",
    "param_grid = {'C': [0.01,0.1, 1, 10, 100,1000], 'gamma': [1, 0.1, 0.01, 0.001, 0.00001, 10,100]}\n",
    "clf_grid = GridSearchCV(SVC(kernel = 'linear'), param_grid)\n",
    "clf_grid.fit(X, y)\n",
    "print(\"Best Parameters:\\n\", clf_grid.best_params_)"
   ]
  }
 ],
 "metadata": {
  "kernelspec": {
   "display_name": "Python 3",
   "language": "python",
   "name": "python3"
  },
  "language_info": {
   "codemirror_mode": {
    "name": "ipython",
    "version": 3
   },
   "file_extension": ".py",
   "mimetype": "text/x-python",
   "name": "python",
   "nbconvert_exporter": "python",
   "pygments_lexer": "ipython3",
   "version": "3.7.3"
  }
 },
 "nbformat": 4,
 "nbformat_minor": 4
}
