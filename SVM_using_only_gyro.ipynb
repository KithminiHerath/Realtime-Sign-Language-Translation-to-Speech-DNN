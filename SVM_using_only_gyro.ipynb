{
 "cells": [
  {
   "cell_type": "code",
   "execution_count": 13,
   "metadata": {},
   "outputs": [],
   "source": [
    "import pandas as pd\n",
    "import numpy as np\n",
    "import math\n",
    "import os\n",
    "from sklearn import preprocessing\n",
    "from sklearn.model_selection import train_test_split\n",
    "from sklearn.model_selection import KFold\n",
    "from sklearn.model_selection import cross_val_score\n",
    "from sklearn.model_selection import cross_val_predict\n",
    "from sklearn.decomposition import PCA                 # for dimensionality reduction using PCA\n",
    "from sklearn.model_selection import GridSearchCV\n",
    "from sklearn.svm import SVC\n",
    "from sklearn.metrics import classification_report,confusion_matrix\n",
    "import matplotlib.pyplot as plt \n",
    "import seaborn as sns            # visualization tool\n",
    "import matplotlib.cm as cm       # for colour mapping to use for the pca plots\n",
    "import scipy.signal\n",
    "from spectrum import *"
   ]
  },
  {
   "cell_type": "code",
   "execution_count": 16,
   "metadata": {},
   "outputs": [],
   "source": [
    "def process_one_csv(foldername,k,filename):\n",
    "    # print(foldername,filename)\n",
    "    path = '/home/amaya/emp/Realtime-Sign-Language-Translation-to-Speech-DNN/NEW_PROCESS/FULL_CLEANED2/'+foldername+'/split/'+k+'/'+filename\n",
    "    f = open(path,'rb')\n",
    "    if b',' in f.readline():\n",
    "        data = pd.read_csv(path)\n",
    "    else:\n",
    "        data = pd.read_csv(path,encoding = 'utf-16',delimiter = '\\t')\n",
    "    data = data.drop('Timestamp',axis = 1)\n",
    "    # print(data.head(2))\n",
    "    \n",
    "    columns = list(data.columns)\n",
    "\n",
    "    #features = ['E','MAX','SSC','Sk','Ku','AR']\n",
    "\n",
    "    vector = []\n",
    "    #out_columns = []\n",
    "    \n",
    "    for item in columns:\n",
    "        temp = list(data[item])\n",
    "        l = len(temp)\n",
    "        \n",
    "        # calculating mean\n",
    "        mu = np.mean(np.array(temp))\n",
    "        \n",
    "        # calculating std\n",
    "        dif = temp - mu\n",
    "        s = np.sqrt(np.mean(np.array(dif)**2))\n",
    "        \n",
    "        # calculating E ***\n",
    "        #out_columns.append(item+features[0])\n",
    "        vector.append(np.mean(np.array(temp)**2))\n",
    "        \n",
    "        # calculating max ***\n",
    "        #out_columns.append(item+features[1])\n",
    "        vector.append(max(temp))\n",
    "        \n",
    "        # calculating SSC ***\n",
    "        #out_columns.append(item+features[2])\n",
    "        tot = 0\n",
    "        for i in range(1,l-1): \n",
    "            if (temp[i]-temp[i-1])*(temp[i+1]-temp[i]) < 0:\n",
    "                tot += 1\n",
    "        vector.append(tot/l-2)\n",
    "\n",
    "    return vector"
   ]
  },
  {
   "cell_type": "code",
   "execution_count": 17,
   "metadata": {},
   "outputs": [
    {
     "name": "stdout",
     "output_type": "stream",
     "text": [
      "['YELLOW', 'WATER', 'YES', 'THANKYOU', 'NO']\n"
     ]
    }
   ],
   "source": [
    "output = []\n",
    "classes=[]\n",
    "folders = os.listdir('/home/amaya/emp/Realtime-Sign-Language-Translation-to-Speech-DNN/NEW_PROCESS/FULL_CLEANED2/')\n",
    "# process_one_csv(files[0])\n",
    "for folder in folders:\n",
    "    if folder[0] != '.':\n",
    "        class_ = folder[:-11]\n",
    "        \n",
    "        for k in ['1', '2']:\n",
    "            files = os.listdir('/home/amaya/emp/Realtime-Sign-Language-Translation-to-Speech-DNN/NEW_PROCESS/FULL_CLEANED2/'+folder+'/split/'+k+'/')\n",
    "            temp = []\n",
    "            for file in files:\n",
    "                if file[-1] == 'v' and 'gyro' in file:\n",
    "                    temp += process_one_csv(folder,k,file)\n",
    "            if class_ in classes:\n",
    "                temp.append(classes.index(class_))\n",
    "            else:\n",
    "                classes.append(class_)\n",
    "                temp.append(classes.index(class_))\n",
    "            \n",
    "            output.append(temp)\n",
    "            \n",
    "processed = pd.DataFrame(output)\n",
    "ocolumns = list(processed.columns)\n",
    "processed.head()\n",
    "print(classes)"
   ]
  },
  {
   "cell_type": "code",
   "execution_count": 18,
   "metadata": {},
   "outputs": [
    {
     "data": {
      "text/html": [
       "<div>\n",
       "<style scoped>\n",
       "    .dataframe tbody tr th:only-of-type {\n",
       "        vertical-align: middle;\n",
       "    }\n",
       "\n",
       "    .dataframe tbody tr th {\n",
       "        vertical-align: top;\n",
       "    }\n",
       "\n",
       "    .dataframe thead th {\n",
       "        text-align: right;\n",
       "    }\n",
       "</style>\n",
       "<table border=\"1\" class=\"dataframe\">\n",
       "  <thead>\n",
       "    <tr style=\"text-align: right;\">\n",
       "      <th></th>\n",
       "      <th>0</th>\n",
       "      <th>1</th>\n",
       "      <th>2</th>\n",
       "      <th>3</th>\n",
       "      <th>4</th>\n",
       "      <th>5</th>\n",
       "      <th>6</th>\n",
       "      <th>7</th>\n",
       "      <th>8</th>\n",
       "      <th>9</th>\n",
       "    </tr>\n",
       "  </thead>\n",
       "  <tbody>\n",
       "    <tr>\n",
       "      <th>0</th>\n",
       "      <td>1102.491401</td>\n",
       "      <td>42.871890</td>\n",
       "      <td>-1.931937</td>\n",
       "      <td>2313.491837</td>\n",
       "      <td>74.722949</td>\n",
       "      <td>-1.984293</td>\n",
       "      <td>1317.906575</td>\n",
       "      <td>54.524040</td>\n",
       "      <td>-1.984293</td>\n",
       "      <td>0</td>\n",
       "    </tr>\n",
       "    <tr>\n",
       "      <th>1</th>\n",
       "      <td>885.682984</td>\n",
       "      <td>36.748547</td>\n",
       "      <td>-1.924623</td>\n",
       "      <td>1983.106925</td>\n",
       "      <td>70.611385</td>\n",
       "      <td>-1.984925</td>\n",
       "      <td>1148.560591</td>\n",
       "      <td>50.985131</td>\n",
       "      <td>-1.984925</td>\n",
       "      <td>0</td>\n",
       "    </tr>\n",
       "    <tr>\n",
       "      <th>2</th>\n",
       "      <td>968.808077</td>\n",
       "      <td>42.873981</td>\n",
       "      <td>-1.951327</td>\n",
       "      <td>2317.918867</td>\n",
       "      <td>80.597075</td>\n",
       "      <td>-1.986726</td>\n",
       "      <td>952.529188</td>\n",
       "      <td>50.249259</td>\n",
       "      <td>-1.986726</td>\n",
       "      <td>0</td>\n",
       "    </tr>\n",
       "    <tr>\n",
       "      <th>3</th>\n",
       "      <td>816.347656</td>\n",
       "      <td>37.948618</td>\n",
       "      <td>-1.947867</td>\n",
       "      <td>2471.691043</td>\n",
       "      <td>80.317119</td>\n",
       "      <td>-1.985782</td>\n",
       "      <td>926.636653</td>\n",
       "      <td>49.259067</td>\n",
       "      <td>-1.966825</td>\n",
       "      <td>0</td>\n",
       "    </tr>\n",
       "    <tr>\n",
       "      <th>4</th>\n",
       "      <td>403.636721</td>\n",
       "      <td>25.305731</td>\n",
       "      <td>-1.936585</td>\n",
       "      <td>5655.153686</td>\n",
       "      <td>115.683595</td>\n",
       "      <td>-1.985366</td>\n",
       "      <td>590.178219</td>\n",
       "      <td>39.452069</td>\n",
       "      <td>-1.956098</td>\n",
       "      <td>1</td>\n",
       "    </tr>\n",
       "  </tbody>\n",
       "</table>\n",
       "</div>"
      ],
      "text/plain": [
       "             0          1         2            3           4         5  \\\n",
       "0  1102.491401  42.871890 -1.931937  2313.491837   74.722949 -1.984293   \n",
       "1   885.682984  36.748547 -1.924623  1983.106925   70.611385 -1.984925   \n",
       "2   968.808077  42.873981 -1.951327  2317.918867   80.597075 -1.986726   \n",
       "3   816.347656  37.948618 -1.947867  2471.691043   80.317119 -1.985782   \n",
       "4   403.636721  25.305731 -1.936585  5655.153686  115.683595 -1.985366   \n",
       "\n",
       "             6          7         8  9  \n",
       "0  1317.906575  54.524040 -1.984293  0  \n",
       "1  1148.560591  50.985131 -1.984925  0  \n",
       "2   952.529188  50.249259 -1.986726  0  \n",
       "3   926.636653  49.259067 -1.966825  0  \n",
       "4   590.178219  39.452069 -1.956098  1  "
      ]
     },
     "execution_count": 18,
     "metadata": {},
     "output_type": "execute_result"
    }
   ],
   "source": [
    "processed.head()"
   ]
  },
  {
   "cell_type": "code",
   "execution_count": 19,
   "metadata": {},
   "outputs": [
    {
     "data": {
      "text/plain": [
       "10"
      ]
     },
     "execution_count": 19,
     "metadata": {},
     "output_type": "execute_result"
    }
   ],
   "source": [
    "len(ocolumns)"
   ]
  },
  {
   "cell_type": "code",
   "execution_count": 20,
   "metadata": {},
   "outputs": [
    {
     "data": {
      "text/plain": [
       "(136, 10)"
      ]
     },
     "execution_count": 20,
     "metadata": {},
     "output_type": "execute_result"
    }
   ],
   "source": [
    "processed.shape"
   ]
  },
  {
   "cell_type": "code",
   "execution_count": 21,
   "metadata": {},
   "outputs": [],
   "source": [
    "X = processed[ocolumns[:-1]]\n",
    "y = processed[ocolumns[-1]]"
   ]
  },
  {
   "cell_type": "code",
   "execution_count": 22,
   "metadata": {},
   "outputs": [],
   "source": [
    "scaler = preprocessing.MinMaxScaler()   # since the data set is not gaussian\n",
    "scaled_df = scaler.fit_transform(X)\n",
    "X = pd.DataFrame(scaled_df,columns = ocolumns[:-1])\n",
    "y = processed[ocolumns[-1]]"
   ]
  },
  {
   "cell_type": "code",
   "execution_count": 24,
   "metadata": {},
   "outputs": [],
   "source": [
    "X_train,X_test,y_train,y_test = train_test_split(X,y,test_size = 0.20)"
   ]
  },
  {
   "cell_type": "code",
   "execution_count": 25,
   "metadata": {},
   "outputs": [
    {
     "data": {
      "text/plain": [
       "SVC(C=10.0, cache_size=200, class_weight=None, coef0=0.0,\n",
       "    decision_function_shape='ovr', degree=3, gamma=1.0, kernel='linear',\n",
       "    max_iter=-1, probability=False, random_state=None, shrinking=True,\n",
       "    tol=0.001, verbose=False)"
      ]
     },
     "execution_count": 25,
     "metadata": {},
     "output_type": "execute_result"
    }
   ],
   "source": [
    "svclassifier = SVC(kernel = 'linear',C = 10.0, gamma = 1.0)\n",
    "# C = 100.0, gamma = 1.0 for linear kernel - selected using GridSearchCV\n",
    "\n",
    "svclassifier.fit(X_train,y_train)"
   ]
  },
  {
   "cell_type": "code",
   "execution_count": 26,
   "metadata": {},
   "outputs": [
    {
     "name": "stderr",
     "output_type": "stream",
     "text": [
      "'c' argument looks like a single numeric RGB or RGBA sequence, which should be avoided as value-mapping will have precedence in case its length matches with 'x' & 'y'.  Please use a 2-D array with a single row if you really want to specify the same RGB or RGBA value for all points.\n",
      "'c' argument looks like a single numeric RGB or RGBA sequence, which should be avoided as value-mapping will have precedence in case its length matches with 'x' & 'y'.  Please use a 2-D array with a single row if you really want to specify the same RGB or RGBA value for all points.\n",
      "'c' argument looks like a single numeric RGB or RGBA sequence, which should be avoided as value-mapping will have precedence in case its length matches with 'x' & 'y'.  Please use a 2-D array with a single row if you really want to specify the same RGB or RGBA value for all points.\n",
      "'c' argument looks like a single numeric RGB or RGBA sequence, which should be avoided as value-mapping will have precedence in case its length matches with 'x' & 'y'.  Please use a 2-D array with a single row if you really want to specify the same RGB or RGBA value for all points.\n",
      "'c' argument looks like a single numeric RGB or RGBA sequence, which should be avoided as value-mapping will have precedence in case its length matches with 'x' & 'y'.  Please use a 2-D array with a single row if you really want to specify the same RGB or RGBA value for all points.\n"
     ]
    },
    {
     "data": {
      "image/png": "[encoded data removed]",
      "text/plain": [
       "<Figure size 576x576 with 1 Axes>"
      ]
     },
     "metadata": {
      "needs_background": "light"
     },
     "output_type": "display_data"
    }
   ],
   "source": [
    "# dimensionality reduction to training set\n",
    "\n",
    "pca = PCA(n_components = 2)\n",
    "newFeatures = pca.fit_transform(X)\n",
    "newdf = pd.DataFrame(newFeatures,columns = ['Principal Component 1', 'Principal Component 2'])\n",
    "#svclassifier.fit(newdf,y)\n",
    "newdf['CLASS'] = list(y)\n",
    "\n",
    "fig = plt.figure(figsize = (8,8))\n",
    "ax = fig.add_subplot(1,1,1) \n",
    "ax.set_xlabel('Principal Component 1', fontsize = 15)\n",
    "ax.set_ylabel('Principal Component 2', fontsize = 15)\n",
    "clind = list(range(5))\n",
    "colors = cm.rainbow(np.linspace(0, 1, 5))\n",
    "for ind, color in zip(clind,colors):\n",
    "    indicesToKeep = newdf['CLASS'] == ind\n",
    "    ax.scatter(newdf.loc[indicesToKeep, 'Principal Component 1']\n",
    "               , newdf.loc[indicesToKeep, 'Principal Component 2']\n",
    "               , c = color\n",
    "               , s = 50)\n",
    "ax.legend(clind)\n",
    "ax.grid()"
   ]
  },
  {
   "cell_type": "code",
   "execution_count": 27,
   "metadata": {},
   "outputs": [
    {
     "data": {
      "image/png": "[encoded data removed]",
      "text/plain": [
       "<Figure size 720x720 with 2 Axes>"
      ]
     },
     "metadata": {
      "needs_background": "light"
     },
     "output_type": "display_data"
    },
    {
     "name": "stdout",
     "output_type": "stream",
     "text": [
      "[3, 1, 2, 2, 0, 4, 0, 2, 0, 1, 1, 3, 4, 1, 1, 0, 3, 3, 2, 1, 3, 4, 1, 3, 2, 3, 1, 0] [3, 1, 2, 2, 0, 4, 0, 2, 0, 1, 1, 3, 2, 1, 1, 0, 3, 3, 2, 1, 3, 4, 1, 3, 2, 3, 1, 0]\n",
      "              precision    recall  f1-score   support\n",
      "\n",
      "           0       1.00      1.00      1.00         5\n",
      "           1       1.00      1.00      1.00         8\n",
      "           2       0.83      1.00      0.91         5\n",
      "           3       1.00      1.00      1.00         7\n",
      "           4       1.00      0.67      0.80         3\n",
      "\n",
      "    accuracy                           0.96        28\n",
      "   macro avg       0.97      0.93      0.94        28\n",
      "weighted avg       0.97      0.96      0.96        28\n",
      "\n"
     ]
    }
   ],
   "source": [
    "# dimesionality reduction to test set\n",
    "# newFeaturesTest = pca.fit_transform(X_test)\n",
    "# newtest = pd.DataFrame(newFeaturesTest,columns = ['Principal Component 1', 'Principal Component 2'])\n",
    "# ****************************************************************************************************\n",
    "\n",
    "# Usual code:\n",
    "y_pred = svclassifier.predict(X_test)\n",
    "#result = [y_pred[i] == y_test[i] for i in range(len(y_test))]\n",
    "f,ax = plt.subplots(figsize=(10, 10))\n",
    "sns.heatmap(confusion_matrix(y_test,y_pred), annot=True, linewidths=.1, fmt= '.0f',ax=ax).set_ylim(5,0)\n",
    "plt.xlabel(\"Predicted Class\")\n",
    "plt.ylabel(\"Actual Class\")\n",
    "plt.show()\n",
    "print(list(y_test),list(y_pred))\n",
    "print(classification_report(y_test,y_pred))"
   ]
  },
  {
   "cell_type": "code",
   "execution_count": 29,
   "metadata": {},
   "outputs": [
    {
     "name": "stdout",
     "output_type": "stream",
     "text": [
      "Best Parameters:\n",
      " {'C': 10}\n"
     ]
    },
    {
     "name": "stderr",
     "output_type": "stream",
     "text": [
      "/home/amaya/anaconda3/lib/python3.7/site-packages/sklearn/model_selection/_split.py:1978: FutureWarning: The default value of cv will change from 3 to 5 in version 0.22. Specify it explicitly to silence this warning.\n",
      "  warnings.warn(CV_WARNING, FutureWarning)\n",
      "/home/amaya/anaconda3/lib/python3.7/site-packages/sklearn/model_selection/_search.py:814: DeprecationWarning: The default of the `iid` parameter will change from True to False in version 0.22 and will be removed in 0.24. This will change numeric results when test-set sizes are unequal.\n",
      "  DeprecationWarning)\n"
     ]
    }
   ],
   "source": [
    "# parameter tuning\n",
    "\n",
    "param_grid = {'C': [0.01,0.1, 1, 10, 100,1000]}\n",
    "clf_grid = GridSearchCV(SVC(kernel = 'linear'), param_grid)\n",
    "clf_grid.fit(X, y)\n",
    "print(\"Best Parameters:\\n\", clf_grid.best_params_)"
   ]
  }
 ],
 "metadata": {
  "kernelspec": {
   "display_name": "Python 3",
   "language": "python",
   "name": "python3"
  },
  "language_info": {
   "codemirror_mode": {
    "name": "ipython",
    "version": 3
   },
   "file_extension": ".py",
   "mimetype": "text/x-python",
   "name": "python",
   "nbconvert_exporter": "python",
   "pygments_lexer": "ipython3",
   "version": "3.7.3"
  }
 },
 "nbformat": 4,
 "nbformat_minor": 4
}
