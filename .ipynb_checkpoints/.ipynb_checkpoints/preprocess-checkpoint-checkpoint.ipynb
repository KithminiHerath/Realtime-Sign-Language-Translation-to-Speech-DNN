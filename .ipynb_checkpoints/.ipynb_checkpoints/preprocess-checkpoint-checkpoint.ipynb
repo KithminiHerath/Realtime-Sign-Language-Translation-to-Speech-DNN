{
 "cells": [
  {
   "cell_type": "code",
   "execution_count": 209,
   "metadata": {},
   "outputs": [],
   "source": [
    "import pandas as pd\n",
    "import numpy as np\n",
    "import math\n",
    "import os\n",
    "from sklearn import preprocessing\n",
    "from sklearn.model_selection import train_test_split\n",
    "from sklearn.decomposition import PCA                 # for dimensionality reduction using PCA\n",
    "# from sklearn.model_selection import GridSearchCV\n",
    "from sklearn.svm import SVC\n",
    "from sklearn.metrics import classification_report,confusion_matrix\n",
    "import matplotlib.pyplot as plt \n",
    "import seaborn as sns            # visualization tool\n",
    "import matplotlib.cm as cm       # for colour mapping to use for the pca plots"
   ]
  },
  {
   "cell_type": "code",
   "execution_count": 210,
   "metadata": {},
   "outputs": [],
   "source": [
    "def process_one_csv(file_name,k):\n",
    "    data = pd.read_csv('/home/amaya/emp/Realtime-Sign-Language-Translation-to-Speech-DNN/all/User'+str(k)+'/'+file_name)\n",
    "    global classes\n",
    "    \n",
    "    class_ = file_name[0:len(file_name)-14]\n",
    "    \n",
    "    # print(data.head(2))\n",
    "\n",
    "    columns = list(data.columns)[1:]\n",
    "    # features = ['MAV','RMS','VAR','SSI','MAX','MIN']\n",
    "    \n",
    "    vector = []\n",
    "    # global out_columns\n",
    "    \n",
    "    for item in columns:\n",
    "        temp = list(data[item])\n",
    "        # calculating MAV ***\n",
    "        # out_columns.append(item+features[0])\n",
    "        abs_val = list(map(abs,temp))\n",
    "        vector.append(np.mean(abs_val))\n",
    "\n",
    "        # calculating RMS ***\n",
    "        # out_columns.append(item+features[1])\n",
    "        vector.append(np.sqrt(np.mean(np.array(temp)**2)))\n",
    "\n",
    "        # calculate variance ***\n",
    "        # out_columns.append(item+features[2])\n",
    "        x_mean = np.mean(temp)\n",
    "        dif = temp - x_mean\n",
    "        vector.append(np.mean(np.array(dif)**2))\n",
    "\n",
    "        # calculating ssi ***\n",
    "        # out_columns.append(item+features[3])\n",
    "        vector.append(np.sum(np.array(temp)**2))\n",
    "\n",
    "        # calculating max ***\n",
    "        # out_columns.append(item+features[4])\n",
    "        vector.append(max(temp))\n",
    "\n",
    "        # calculating min ***\n",
    "        # out_columns.append(item+features[5])\n",
    "        vector.append(min(temp))\n",
    "        \n",
    "    if class_ in classes:\n",
    "        vector.append(classes.index(class_))\n",
    "    else:\n",
    "        classes.append(class_)\n",
    "        vector.append(classes.index(class_))\n",
    "        \n",
    "    return vector\n"
   ]
  },
  {
   "cell_type": "code",
   "execution_count": 211,
   "metadata": {},
   "outputs": [],
   "source": [
    "out_columns = ['EMG0LMAV', 'EMG0LRMS', 'EMG0LVAR', 'EMG0LSSI', 'EMG0LMAX', 'EMG0LMIN', 'EMG1LMAV', 'EMG1LRMS', 'EMG1LVAR', 'EMG1LSSI', 'EMG1LMAX', 'EMG1LMIN', 'EMG2LMAV', 'EMG2LRMS', 'EMG2LVAR', 'EMG2LSSI', 'EMG2LMAX', 'EMG2LMIN', 'EMG3LMAV', 'EMG3LRMS', 'EMG3LVAR', 'EMG3LSSI', 'EMG3LMAX', 'EMG3LMIN', 'EMG4LMAV', 'EMG4LRMS', 'EMG4LVAR', 'EMG4LSSI', 'EMG4LMAX', 'EMG4LMIN', 'EMG5LMAV', 'EMG5LRMS', 'EMG5LVAR', 'EMG5LSSI', 'EMG5LMAX', 'EMG5LMIN', 'EMG6LMAV', 'EMG6LRMS', 'EMG6LVAR', 'EMG6LSSI', 'EMG6LMAX', 'EMG6LMIN', 'EMG7LMAV', 'EMG7LRMS', 'EMG7LVAR', 'EMG7LSSI', 'EMG7LMAX', 'EMG7LMIN', 'AXLMAV', 'AXLRMS', 'AXLVAR', 'AXLSSI', 'AXLMAX', 'AXLMIN', 'AYLMAV', 'AYLRMS', 'AYLVAR', 'AYLSSI', 'AYLMAX', 'AYLMIN', 'AZLMAV', 'AZLRMS', 'AZLVAR', 'AZLSSI', 'AZLMAX', 'AZLMIN', 'GXLMAV', 'GXLRMS', 'GXLVAR', 'GXLSSI', 'GXLMAX', 'GXLMIN', 'GYLMAV', 'GYLRMS', 'GYLVAR', 'GYLSSI', 'GYLMAX', 'GYLMIN', 'GZLMAV', 'GZLRMS', 'GZLVAR', 'GZLSSI', 'GZLMAX', 'GZLMIN', 'ORLMAV', 'ORLRMS', 'ORLVAR', 'ORLSSI', 'ORLMAX', 'ORLMIN', 'OPLMAV', 'OPLRMS', 'OPLVAR', 'OPLSSI', 'OPLMAX', 'OPLMIN', 'OYLMAV', 'OYLRMS', 'OYLVAR', 'OYLSSI', 'OYLMAX', 'OYLMIN', 'EMG0RMAV', 'EMG0RRMS', 'EMG0RVAR', 'EMG0RSSI', 'EMG0RMAX', 'EMG0RMIN', 'EMG1RMAV', 'EMG1RRMS', 'EMG1RVAR', 'EMG1RSSI', 'EMG1RMAX', 'EMG1RMIN', 'EMG2RMAV', 'EMG2RRMS', 'EMG2RVAR', 'EMG2RSSI', 'EMG2RMAX', 'EMG2RMIN', 'EMG3RMAV', 'EMG3RRMS', 'EMG3RVAR', 'EMG3RSSI', 'EMG3RMAX', 'EMG3RMIN', 'EMG4RMAV', 'EMG4RRMS', 'EMG4RVAR', 'EMG4RSSI', 'EMG4RMAX', 'EMG4RMIN', 'EMG5RMAV', 'EMG5RRMS', 'EMG5RVAR', 'EMG5RSSI', 'EMG5RMAX', 'EMG5RMIN', 'EMG6RMAV', 'EMG6RRMS', 'EMG6RVAR', 'EMG6RSSI', 'EMG6RMAX', 'EMG6RMIN', 'EMG7RMAV', 'EMG7RRMS', 'EMG7RVAR', 'EMG7RSSI', 'EMG7RMAX', 'EMG7RMIN', 'AXRMAV', 'AXRRMS', 'AXRVAR', 'AXRSSI', 'AXRMAX', 'AXRMIN', 'AYRMAV', 'AYRRMS', 'AYRVAR', 'AYRSSI', 'AYRMAX', 'AYRMIN', 'AZRMAV', 'AZRRMS', 'AZRVAR', 'AZRSSI', 'AZRMAX', 'AZRMIN', 'GXRMAV', 'GXRRMS', 'GXRVAR', 'GXRSSI', 'GXRMAX', 'GXRMIN', 'GYRMAV', 'GYRRMS', 'GYRVAR', 'GYRSSI', 'GYRMAX', 'GYRMIN', 'GZRMAV', 'GZRRMS', 'GZRVAR', 'GZRSSI', 'GZRMAX', 'GZRMIN', 'ORRMAV', 'ORRRMS', 'ORRVAR', 'ORRSSI', 'ORRMAX', 'ORRMIN', 'OPRMAV', 'OPRRMS', 'OPRVAR', 'OPRSSI', 'OPRMAX', 'OPRMIN', 'OYRMAV', 'OYRRMS', 'OYRVAR', 'OYRSSI', 'OYRMAX', 'OYRMIN','CLASS']\n",
    "# 205 columns (34*6 + 1)\n",
    "output = []\n",
    "classes=[]\n",
    "# print(len(out_columns))\n",
    "\n",
    "# process_one_csv(files[0])\n",
    "for k in range(1,11):\n",
    "    if(k!=5):\n",
    "        files = os.listdir('/home/amaya/emp/Realtime-Sign-Language-Translation-to-Speech-DNN/all/User'+str(k)+'/')\n",
    "    else:\n",
    "        continue\n",
    "    for file in files:\n",
    "        if(file[-1] == 'v'):      # to avoid _DS_STORE files and anyother hiiden files\n",
    "            output.append(process_one_csv(file,k))\n",
    "        \n",
    "processed = pd.DataFrame(output,columns = out_columns)"
   ]
  },
  {
   "cell_type": "code",
   "execution_count": 212,
   "metadata": {},
   "outputs": [],
   "source": [
    "#plt.hist(processed[out_columns[len(out_columns)-1]])\n",
    "#plt.show()\n",
    "#print(out_columns[len(out_columns)-1])"
   ]
  },
  {
   "cell_type": "code",
   "execution_count": 213,
   "metadata": {},
   "outputs": [],
   "source": [
    "#temp = processed[out_columns[:len(out_columns)-1]]\n",
    "#stds= []\n",
    "#for ind in out_columns[:len(out_columns)-1]:\n",
    "#    stds.append(np.std(processed[ind]))\n",
    "#print(stds)\n",
    "#lessthan = [stds.index(x) for x in stds if x<1] \n",
    "#print(len(lessthan))"
   ]
  },
  {
   "cell_type": "code",
   "execution_count": 214,
   "metadata": {},
   "outputs": [
    {
     "name": "stderr",
     "output_type": "stream",
     "text": [
      "/home/amaya/anaconda3/lib/python3.7/site-packages/sklearn/preprocessing/data.py:334: DataConversionWarning: Data with input dtype int64, float64 were all converted to float64 by MinMaxScaler.\n",
      "  return self.partial_fit(X, y)\n"
     ]
    }
   ],
   "source": [
    "# feature scaling of data\n",
    "scaler = preprocessing.MinMaxScaler()   # since the data set is not gaussian\n",
    "scaled_df = scaler.fit_transform(processed[out_columns[:len(out_columns)-1]])\n",
    "X = pd.DataFrame(scaled_df, columns = out_columns[:len(out_columns)-1])\n",
    "y = processed['CLASS']"
   ]
  },
  {
   "cell_type": "code",
   "execution_count": 215,
   "metadata": {},
   "outputs": [
    {
     "data": {
      "text/plain": [
       "SVC(C=10.0, cache_size=200, class_weight=None, coef0=0.0,\n",
       "  decision_function_shape='ovr', degree=3, gamma=0.1, kernel='rbf',\n",
       "  max_iter=-1, probability=False, random_state=None, shrinking=True,\n",
       "  tol=0.001, verbose=False)"
      ]
     },
     "execution_count": 215,
     "metadata": {},
     "output_type": "execute_result"
    }
   ],
   "source": [
    "X_train,X_test,y_train,y_test = train_test_split(X,y,test_size = 0.20)\n",
    "svclassifier = SVC(kernel = 'rbf', C = 10.0, gamma = 0.1)\n",
    "svclassifier.fit(X_train,y_train)"
   ]
  },
  {
   "cell_type": "code",
   "execution_count": 216,
   "metadata": {},
   "outputs": [
    {
     "data": {
      "text/plain": [
       "\"pca = PCA(n_components = 2)\\nnewFeatures = pca.fit_transform(X_train)\\nnewdf = pd.DataFrame(newFeatures,columns = ['Principal Component 1', 'Principal Component 2'])\\nsvclassifier.fit(newdf,y_train)\\nnewdf['CLASS'] = list(y_train)\\n\\nfig = plt.figure(figsize = (8,8))\\nax = fig.add_subplot(1,1,1) \\nax.set_xlabel('Principal Component 1', fontsize = 15)\\nax.set_ylabel('Principal Component 2', fontsize = 15)\\nclind = list(range(20))\\ncolors = cm.rainbow(np.linspace(0, 1, 20))\\nfor ind, color in zip(clind,colors):\\n    indicesToKeep = newdf['CLASS'] == ind\\n    ax.scatter(newdf.loc[indicesToKeep, 'Principal Component 1']\\n               , newdf.loc[indicesToKeep, 'Principal Component 2']\\n               , c = color\\n               , s = 50)\\nax.legend(clind)\\nax.grid()\""
      ]
     },
     "execution_count": 216,
     "metadata": {},
     "output_type": "execute_result"
    }
   ],
   "source": [
    "# dimensionality reduction to training set\n",
    "\n",
    "'''pca = PCA(n_components = 2)\n",
    "newFeatures = pca.fit_transform(X_train)\n",
    "newdf = pd.DataFrame(newFeatures,columns = ['Principal Component 1', 'Principal Component 2'])\n",
    "svclassifier.fit(newdf,y_train)\n",
    "newdf['CLASS'] = list(y_train)\n",
    "\n",
    "fig = plt.figure(figsize = (8,8))\n",
    "ax = fig.add_subplot(1,1,1) \n",
    "ax.set_xlabel('Principal Component 1', fontsize = 15)\n",
    "ax.set_ylabel('Principal Component 2', fontsize = 15)\n",
    "clind = list(range(20))\n",
    "colors = cm.rainbow(np.linspace(0, 1, 20))\n",
    "for ind, color in zip(clind,colors):\n",
    "    indicesToKeep = newdf['CLASS'] == ind\n",
    "    ax.scatter(newdf.loc[indicesToKeep, 'Principal Component 1']\n",
    "               , newdf.loc[indicesToKeep, 'Principal Component 2']\n",
    "               , c = color\n",
    "               , s = 50)\n",
    "ax.legend(clind)\n",
    "ax.grid()'''"
   ]
  },
  {
   "cell_type": "code",
   "execution_count": 217,
   "metadata": {},
   "outputs": [
    {
     "data": {
      "image/png": "[encoded data removed]",
      "text/plain": [
       "<Figure size 1296x1296 with 2 Axes>"
      ]
     },
     "metadata": {
      "needs_background": "light"
     },
     "output_type": "display_data"
    },
    {
     "name": "stdout",
     "output_type": "stream",
     "text": [
      "              precision    recall  f1-score   support\n",
      "\n",
      "           0       0.75      1.00      0.86         6\n",
      "           1       1.00      1.00      1.00         5\n",
      "           2       1.00      1.00      1.00         4\n",
      "           3       1.00      1.00      1.00         6\n",
      "           4       1.00      1.00      1.00         5\n",
      "           5       1.00      1.00      1.00         9\n",
      "           6       1.00      1.00      1.00         9\n",
      "           7       1.00      1.00      1.00         2\n",
      "           8       1.00      1.00      1.00         2\n",
      "           9       1.00      1.00      1.00         9\n",
      "          10       1.00      1.00      1.00         5\n",
      "          11       1.00      1.00      1.00         2\n",
      "          12       0.91      1.00      0.95        10\n",
      "          13       1.00      0.75      0.86         4\n",
      "          14       1.00      1.00      1.00         4\n",
      "          15       1.00      0.60      0.75         5\n",
      "          16       1.00      1.00      1.00         3\n",
      "          17       0.88      1.00      0.93         7\n",
      "          18       1.00      1.00      1.00         6\n",
      "          19       1.00      0.86      0.92         7\n",
      "\n",
      "   micro avg       0.96      0.96      0.96       110\n",
      "   macro avg       0.98      0.96      0.96       110\n",
      "weighted avg       0.97      0.96      0.96       110\n",
      "\n"
     ]
    }
   ],
   "source": [
    "# dimesionality reduction to test set\n",
    "# newFeaturesTest = pca.fit_transform(X_test)\n",
    "# newtest = pd.DataFrame(newFeaturesTest,columns = ['Principal Component 1', 'Principal Component 2'])\n",
    "# ****************************************************************************************************\n",
    "\n",
    "# Usual code:\n",
    "y_pred = svclassifier.predict(X_test)\n",
    "#result = [y_pred[i] == y_test[i] for i in range(len(y_test))]\n",
    "f,ax = plt.subplots(figsize=(18, 18))\n",
    "sns.heatmap(confusion_matrix(y_test,y_pred), annot=True, linewidths=.3, fmt= '.1f',ax=ax)\n",
    "plt.xlabel(\"Predicted Class\")\n",
    "plt.ylabel(\"Actual Class\")\n",
    "plt.show()\n",
    "print(classification_report(y_test,y_pred))"
   ]
  },
  {
   "cell_type": "code",
   "execution_count": 218,
   "metadata": {},
   "outputs": [
    {
     "data": {
      "text/plain": [
       "\"newtest['CLASS'] = list(y_pred)\\n\\nfig = plt.figure(figsize = (8,8))\\nax = fig.add_subplot(1,1,1) \\nax.set_xlabel('Principal Component 1', fontsize = 15)\\nax.set_ylabel('Principal Component 2', fontsize = 15)\\nfor ind, color in zip(clind,colors):\\n    indicesToKeep = newtest['CLASS'] == ind\\n    ax.scatter(newtest.loc[indicesToKeep, 'Principal Component 1']\\n               , newtest.loc[indicesToKeep, 'Principal Component 2']\\n               , c = color\\n               , s = 50)\\nax.legend(clind)\\nax.grid()\""
      ]
     },
     "execution_count": 218,
     "metadata": {},
     "output_type": "execute_result"
    }
   ],
   "source": [
    "# PCA plot for the test set\n",
    "'''newtest['CLASS'] = list(y_pred)\n",
    "\n",
    "fig = plt.figure(figsize = (8,8))\n",
    "ax = fig.add_subplot(1,1,1) \n",
    "ax.set_xlabel('Principal Component 1', fontsize = 15)\n",
    "ax.set_ylabel('Principal Component 2', fontsize = 15)\n",
    "for ind, color in zip(clind,colors):\n",
    "    indicesToKeep = newtest['CLASS'] == ind\n",
    "    ax.scatter(newtest.loc[indicesToKeep, 'Principal Component 1']\n",
    "               , newtest.loc[indicesToKeep, 'Principal Component 2']\n",
    "               , c = color\n",
    "               , s = 50)\n",
    "ax.legend(clind)\n",
    "ax.grid()'''"
   ]
  },
  {
   "cell_type": "code",
   "execution_count": 208,
   "metadata": {},
   "outputs": [],
   "source": [
    "# print(classes)"
   ]
  },
  {
   "cell_type": "code",
   "execution_count": null,
   "metadata": {},
   "outputs": [],
   "source": []
  }
 ],
 "metadata": {
  "kernelspec": {
   "display_name": "Python 3",
   "language": "python",
   "name": "python3"
  },
  "language_info": {
   "codemirror_mode": {
    "name": "ipython",
    "version": 3
   },
   "file_extension": ".py",
   "mimetype": "text/x-python",
   "name": "python",
   "nbconvert_exporter": "python",
   "pygments_lexer": "ipython3",
   "version": "3.7.3"
  }
 },
 "nbformat": 4,
 "nbformat_minor": 2
}
