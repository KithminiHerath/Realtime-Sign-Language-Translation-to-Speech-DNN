{
 "cells": [
  {
   "cell_type": "code",
   "execution_count": 1,
   "metadata": {},
   "outputs": [],
   "source": [
    "import pandas as pd\n",
    "import numpy as np\n",
    "import math\n",
    "import os\n",
    "from sklearn import preprocessing\n",
    "from sklearn.model_selection import train_test_split\n",
    "from sklearn.model_selection import KFold\n",
    "from sklearn.model_selection import cross_val_score\n",
    "from sklearn.model_selection import cross_val_predict\n",
    "from sklearn.decomposition import PCA                 # for dimensionality reduction using PCA\n",
    "from sklearn.model_selection import GridSearchCV\n",
    "from sklearn.svm import SVC\n",
    "from sklearn.metrics import classification_report,confusion_matrix\n",
    "import matplotlib.pyplot as plt \n",
    "import seaborn as sns            # visualization tool\n",
    "import matplotlib.cm as cm       # for colour mapping to use for the pca plots\n",
    "import scipy.signal\n",
    "from spectrum import *"
   ]
  },
  {
   "cell_type": "code",
   "execution_count": 4,
   "metadata": {},
   "outputs": [],
   "source": [
    "def process_one_csv(foldername,k,filename):\n",
    "    path = '/home/amaya/emp/Realtime-Sign-Language-Translation-to-Speech-DNN/NEW_PROCESS/FULL_CLEANED2/'+foldername+'/split/'+k+'/'+filename\n",
    "    f = open(path,'rb')\n",
    "    if b',' in f.readline():\n",
    "        data = pd.read_csv(path)\n",
    "    else:\n",
    "        data = pd.read_csv(path,encoding = 'utf-16',delimiter = '\\t')\n",
    "    data = data.drop('Timestamp',axis = 1)\n",
    "    if 'gyro' in filename:\n",
    "        columns = list(data.columns)\n",
    "    elif 'emg' in filename:\n",
    "        columns = ['Emg1', 'Emg2', 'Emg4', 'Emg6', 'Emg7']\n",
    "\n",
    "    #features = ['E','MAX','SSC','Sk','Ku','AR']\n",
    "\n",
    "    vector = []\n",
    "    \n",
    "    for item in columns:\n",
    "        temp = list(data[item])\n",
    "        l = len(temp)\n",
    "        \n",
    "        # calculating mean\n",
    "        mu = np.mean(np.array(temp))\n",
    "        \n",
    "        # calculating std\n",
    "        dif = temp - mu\n",
    "        s = np.sqrt(np.mean(np.array(dif)**2))\n",
    "        \n",
    "        # calculating E ***\n",
    "        #out_columns.append(item+features[0])\n",
    "        vector.append(np.mean(np.array(temp)**2))\n",
    "        \n",
    "        # calculating SSC ***\n",
    "        #out_columns.append(item+features[2])\n",
    "        tot = 0\n",
    "        for i in range(1,l-1): \n",
    "            if (temp[i]-temp[i-1])*(temp[i+1]-temp[i]) < 0:\n",
    "                tot += 1\n",
    "        vector.append(tot/l-2)\n",
    "        \n",
    "        if 'gyro' in filename:\n",
    "            # calculating max ***\n",
    "            #out_columns.append(item+features[1])\n",
    "            vector.append(max(temp))\n",
    "\n",
    "\n",
    "        if 'emg' in filename:\n",
    "            # calculating Sk ***\n",
    "            # out_columns.append(item+features[3])\n",
    "            vector.append((np.sum(np.array(dif)**3) * l)/((l-1)*(l-2)*(s**3)))\n",
    "\n",
    "            # calculate Ku ***\n",
    "            #out_columns.append(item+features[4])\n",
    "            Ku = (np.sum(np.array(dif)**4) * l * (l+1))/((l-1)*(l-2)*(l-3)*(s**4)) - (3*((l-1)**2))/((l-2)*(l-3))\n",
    "            vector.append(Ku)\n",
    "\n",
    "    return vector"
   ]
  },
  {
   "cell_type": "code",
   "execution_count": 5,
   "metadata": {},
   "outputs": [
    {
     "name": "stdout",
     "output_type": "stream",
     "text": [
      "['YELLOW', 'WATER', 'YES', 'THANKYOU', 'NO']\n"
     ]
    }
   ],
   "source": [
    "output = []\n",
    "classes=[]\n",
    "folders = os.listdir('/home/amaya/emp/Realtime-Sign-Language-Translation-to-Speech-DNN/NEW_PROCESS/FULL_CLEANED2/')\n",
    "\n",
    "# process_one_csv(files[0])\n",
    "for folder in folders:\n",
    "    if folder[0] != '.':\n",
    "        class_ = folder[:-11]\n",
    "        \n",
    "        for k in ['1', '2']:\n",
    "            files = os.listdir('/home/amaya/emp/Realtime-Sign-Language-Translation-to-Speech-DNN/NEW_PROCESS/FULL_CLEANED2/'+folder+'/split/'+k+'/')\n",
    "            temp = []\n",
    "            for file in files:\n",
    "                if file[-1] == 'v' and (('gyro' in file) or ('emg' in file)):\n",
    "                    temp += process_one_csv(folder,k,file)\n",
    "            if class_ in classes:\n",
    "                temp.append(classes.index(class_))\n",
    "            else:\n",
    "                classes.append(class_)\n",
    "                temp.append(classes.index(class_))\n",
    "            \n",
    "            output.append(temp)\n",
    "            \n",
    "processed = pd.DataFrame(output)\n",
    "ocolumns = list(processed.columns)\n",
    "processed.head()\n",
    "print(classes)"
   ]
  },
  {
   "cell_type": "code",
   "execution_count": 6,
   "metadata": {},
   "outputs": [
    {
     "data": {
      "text/html": [
       "<div>\n",
       "<style scoped>\n",
       "    .dataframe tbody tr th:only-of-type {\n",
       "        vertical-align: middle;\n",
       "    }\n",
       "\n",
       "    .dataframe tbody tr th {\n",
       "        vertical-align: top;\n",
       "    }\n",
       "\n",
       "    .dataframe thead th {\n",
       "        text-align: right;\n",
       "    }\n",
       "</style>\n",
       "<table border=\"1\" class=\"dataframe\">\n",
       "  <thead>\n",
       "    <tr style=\"text-align: right;\">\n",
       "      <th></th>\n",
       "      <th>0</th>\n",
       "      <th>1</th>\n",
       "      <th>2</th>\n",
       "      <th>3</th>\n",
       "      <th>4</th>\n",
       "      <th>5</th>\n",
       "      <th>6</th>\n",
       "      <th>7</th>\n",
       "      <th>8</th>\n",
       "      <th>9</th>\n",
       "      <th>...</th>\n",
       "      <th>20</th>\n",
       "      <th>21</th>\n",
       "      <th>22</th>\n",
       "      <th>23</th>\n",
       "      <th>24</th>\n",
       "      <th>25</th>\n",
       "      <th>26</th>\n",
       "      <th>27</th>\n",
       "      <th>28</th>\n",
       "      <th>29</th>\n",
       "    </tr>\n",
       "  </thead>\n",
       "  <tbody>\n",
       "    <tr>\n",
       "      <th>0</th>\n",
       "      <td>416.366338</td>\n",
       "      <td>-1.974490</td>\n",
       "      <td>0.694468</td>\n",
       "      <td>-0.639694</td>\n",
       "      <td>108.755353</td>\n",
       "      <td>-1.968367</td>\n",
       "      <td>0.683196</td>\n",
       "      <td>-0.416161</td>\n",
       "      <td>43.514615</td>\n",
       "      <td>-1.972449</td>\n",
       "      <td>...</td>\n",
       "      <td>1102.491401</td>\n",
       "      <td>-1.931937</td>\n",
       "      <td>42.871890</td>\n",
       "      <td>2313.491837</td>\n",
       "      <td>-1.984293</td>\n",
       "      <td>74.722949</td>\n",
       "      <td>1317.906575</td>\n",
       "      <td>-1.984293</td>\n",
       "      <td>54.524040</td>\n",
       "      <td>0</td>\n",
       "    </tr>\n",
       "    <tr>\n",
       "      <th>1</th>\n",
       "      <td>885.682984</td>\n",
       "      <td>-1.924623</td>\n",
       "      <td>36.748547</td>\n",
       "      <td>1983.106925</td>\n",
       "      <td>-1.984925</td>\n",
       "      <td>70.611385</td>\n",
       "      <td>1148.560591</td>\n",
       "      <td>-1.984925</td>\n",
       "      <td>50.985131</td>\n",
       "      <td>202.984862</td>\n",
       "      <td>...</td>\n",
       "      <td>0.958715</td>\n",
       "      <td>32.817180</td>\n",
       "      <td>-1.947752</td>\n",
       "      <td>0.809194</td>\n",
       "      <td>0.514393</td>\n",
       "      <td>29.750168</td>\n",
       "      <td>-1.947752</td>\n",
       "      <td>0.832968</td>\n",
       "      <td>0.587504</td>\n",
       "      <td>0</td>\n",
       "    </tr>\n",
       "    <tr>\n",
       "      <th>2</th>\n",
       "      <td>135.666078</td>\n",
       "      <td>-1.962042</td>\n",
       "      <td>0.644536</td>\n",
       "      <td>0.037629</td>\n",
       "      <td>80.420641</td>\n",
       "      <td>-1.975131</td>\n",
       "      <td>0.913353</td>\n",
       "      <td>0.182295</td>\n",
       "      <td>30.849639</td>\n",
       "      <td>-1.972513</td>\n",
       "      <td>...</td>\n",
       "      <td>968.808077</td>\n",
       "      <td>-1.951327</td>\n",
       "      <td>42.873981</td>\n",
       "      <td>2317.918867</td>\n",
       "      <td>-1.986726</td>\n",
       "      <td>80.597075</td>\n",
       "      <td>952.529188</td>\n",
       "      <td>-1.986726</td>\n",
       "      <td>50.249259</td>\n",
       "      <td>0</td>\n",
       "    </tr>\n",
       "    <tr>\n",
       "      <th>3</th>\n",
       "      <td>224.304604</td>\n",
       "      <td>-1.964109</td>\n",
       "      <td>1.623689</td>\n",
       "      <td>2.874839</td>\n",
       "      <td>84.771866</td>\n",
       "      <td>-1.964109</td>\n",
       "      <td>0.272399</td>\n",
       "      <td>-0.672410</td>\n",
       "      <td>40.526828</td>\n",
       "      <td>-1.983911</td>\n",
       "      <td>...</td>\n",
       "      <td>816.347656</td>\n",
       "      <td>-1.947867</td>\n",
       "      <td>37.948618</td>\n",
       "      <td>2471.691043</td>\n",
       "      <td>-1.985782</td>\n",
       "      <td>80.317119</td>\n",
       "      <td>926.636653</td>\n",
       "      <td>-1.966825</td>\n",
       "      <td>49.259067</td>\n",
       "      <td>0</td>\n",
       "    </tr>\n",
       "    <tr>\n",
       "      <th>4</th>\n",
       "      <td>403.636721</td>\n",
       "      <td>-1.936585</td>\n",
       "      <td>25.305731</td>\n",
       "      <td>5655.153686</td>\n",
       "      <td>-1.985366</td>\n",
       "      <td>115.683595</td>\n",
       "      <td>590.178219</td>\n",
       "      <td>-1.956098</td>\n",
       "      <td>39.452069</td>\n",
       "      <td>441.559727</td>\n",
       "      <td>...</td>\n",
       "      <td>0.266654</td>\n",
       "      <td>23.094031</td>\n",
       "      <td>-1.954433</td>\n",
       "      <td>1.389351</td>\n",
       "      <td>1.159940</td>\n",
       "      <td>34.830868</td>\n",
       "      <td>-1.949507</td>\n",
       "      <td>0.829009</td>\n",
       "      <td>-0.037226</td>\n",
       "      <td>1</td>\n",
       "    </tr>\n",
       "  </tbody>\n",
       "</table>\n",
       "<p>5 rows × 30 columns</p>\n",
       "</div>"
      ],
      "text/plain": [
       "           0         1          2            3           4           5   \\\n",
       "0  416.366338 -1.974490   0.694468    -0.639694  108.755353   -1.968367   \n",
       "1  885.682984 -1.924623  36.748547  1983.106925   -1.984925   70.611385   \n",
       "2  135.666078 -1.962042   0.644536     0.037629   80.420641   -1.975131   \n",
       "3  224.304604 -1.964109   1.623689     2.874839   84.771866   -1.964109   \n",
       "4  403.636721 -1.936585  25.305731  5655.153686   -1.985366  115.683595   \n",
       "\n",
       "            6         7          8           9   ...           20         21  \\\n",
       "0     0.683196 -0.416161  43.514615   -1.972449  ...  1102.491401  -1.931937   \n",
       "1  1148.560591 -1.984925  50.985131  202.984862  ...     0.958715  32.817180   \n",
       "2     0.913353  0.182295  30.849639   -1.972513  ...   968.808077  -1.951327   \n",
       "3     0.272399 -0.672410  40.526828   -1.983911  ...   816.347656  -1.947867   \n",
       "4   590.178219 -1.956098  39.452069  441.559727  ...     0.266654  23.094031   \n",
       "\n",
       "          22           23        24         25           26        27  \\\n",
       "0  42.871890  2313.491837 -1.984293  74.722949  1317.906575 -1.984293   \n",
       "1  -1.947752     0.809194  0.514393  29.750168    -1.947752  0.832968   \n",
       "2  42.873981  2317.918867 -1.986726  80.597075   952.529188 -1.986726   \n",
       "3  37.948618  2471.691043 -1.985782  80.317119   926.636653 -1.966825   \n",
       "4  -1.954433     1.389351  1.159940  34.830868    -1.949507  0.829009   \n",
       "\n",
       "          28  29  \n",
       "0  54.524040   0  \n",
       "1   0.587504   0  \n",
       "2  50.249259   0  \n",
       "3  49.259067   0  \n",
       "4  -0.037226   1  \n",
       "\n",
       "[5 rows x 30 columns]"
      ]
     },
     "execution_count": 6,
     "metadata": {},
     "output_type": "execute_result"
    }
   ],
   "source": [
    "processed.head()"
   ]
  },
  {
   "cell_type": "code",
   "execution_count": 7,
   "metadata": {},
   "outputs": [
    {
     "data": {
      "text/plain": [
       "30"
      ]
     },
     "execution_count": 7,
     "metadata": {},
     "output_type": "execute_result"
    }
   ],
   "source": [
    "len(ocolumns)"
   ]
  },
  {
   "cell_type": "code",
   "execution_count": 8,
   "metadata": {},
   "outputs": [
    {
     "data": {
      "text/plain": [
       "(136, 30)"
      ]
     },
     "execution_count": 8,
     "metadata": {},
     "output_type": "execute_result"
    }
   ],
   "source": [
    "processed.shape"
   ]
  },
  {
   "cell_type": "code",
   "execution_count": 9,
   "metadata": {},
   "outputs": [],
   "source": [
    "X = processed[ocolumns[:-1]]\n",
    "y = processed[ocolumns[-1]]"
   ]
  },
  {
   "cell_type": "code",
   "execution_count": 11,
   "metadata": {},
   "outputs": [],
   "source": [
    "scaler = preprocessing.MinMaxScaler()   # since the data set is not gaussian\n",
    "scaled_df = scaler.fit_transform(X)\n",
    "X = pd.DataFrame(scaled_df,columns = ocolumns[:-1])\n",
    "y = processed[ocolumns[-1]]"
   ]
  },
  {
   "cell_type": "code",
   "execution_count": 12,
   "metadata": {},
   "outputs": [
    {
     "name": "stdout",
     "output_type": "stream",
     "text": [
      "[0.96428571 0.96296296 0.96296296 0.96296296 0.92592593]\n",
      "95.58201058201057\n"
     ]
    }
   ],
   "source": [
    "svclassifier = SVC(kernel = 'linear', C = 100.0, gamma = 1.0)\n",
    "kfold = KFold(n_splits=5,shuffle=True)\n",
    "results_kfold = cross_val_score(svclassifier, X, y, cv=kfold)\n",
    "print(results_kfold)\n",
    "print(results_kfold.mean()*100)"
   ]
  },
  {
   "cell_type": "code",
   "execution_count": 12,
   "metadata": {},
   "outputs": [
    {
     "name": "stderr",
     "output_type": "stream",
     "text": [
      "/home/amaya/anaconda3/lib/python3.7/site-packages/sklearn/model_selection/_split.py:1978: FutureWarning: The default value of cv will change from 3 to 5 in version 0.22. Specify it explicitly to silence this warning.\n",
      "  warnings.warn(CV_WARNING, FutureWarning)\n"
     ]
    },
    {
     "name": "stdout",
     "output_type": "stream",
     "text": [
      "Best Parameters:\n",
      " {'C': 100, 'gamma': 1}\n"
     ]
    },
    {
     "name": "stderr",
     "output_type": "stream",
     "text": [
      "/home/amaya/anaconda3/lib/python3.7/site-packages/sklearn/model_selection/_search.py:814: DeprecationWarning: The default of the `iid` parameter will change from True to False in version 0.22 and will be removed in 0.24. This will change numeric results when test-set sizes are unequal.\n",
      "  DeprecationWarning)\n"
     ]
    }
   ],
   "source": [
    "# parameter tuning\n",
    "\n",
    "param_grid = {'C': [0.01,0.1, 1, 10, 100,1000], 'gamma': [1, 0.1, 0.01, 0.001, 0.00001, 10,100]}\n",
    "clf_grid = GridSearchCV(SVC(kernel = 'linear'), param_grid)\n",
    "clf_grid.fit(X, y)\n",
    "print(\"Best Parameters:\\n\", clf_grid.best_params_)"
   ]
  }
 ],
 "metadata": {
  "kernelspec": {
   "display_name": "Python 3",
   "language": "python",
   "name": "python3"
  },
  "language_info": {
   "codemirror_mode": {
    "name": "ipython",
    "version": 3
   },
   "file_extension": ".py",
   "mimetype": "text/x-python",
   "name": "python",
   "nbconvert_exporter": "python",
   "pygments_lexer": "ipython3",
   "version": "3.7.3"
  }
 },
 "nbformat": 4,
 "nbformat_minor": 4
}
